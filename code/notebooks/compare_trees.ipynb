{
 "cells": [
  {
   "cell_type": "markdown",
   "metadata": {},
   "source": [
    "# Comparative analysis of species trees"
   ]
  },
  {
   "cell_type": "markdown",
   "metadata": {},
   "source": [
    "## Summary"
   ]
  },
  {
   "cell_type": "markdown",
   "metadata": {},
   "source": [
    "Compare the phylogenetic relationships and distances indicated by individual species trees.\n",
    "\n",
    "Two metrics are used to evaluate the distance between a pair of trees:\n",
    "\n",
    "1. **[Robinson–Foulds](https://en.wikipedia.org/wiki/Robinson%E2%80%93Foulds_metric) distance** (RF), which measures the topological discrepancy between two trees.\n",
    "\n",
    "  - Calculated using scikit-bio's [compare_rfd](http://scikit-bio.org/docs/latest/generated/skbio.tree.TreeNode.compare_rfd.html#skbio.tree.TreeNode.compare_rfd) function.\n",
    "\n",
    "  - For example, tree 1 has *n* clades, tree 2 has *m* clades, of which *k* clades have identical sets of descendants. Therefore absolute RF = n + m – 2k; relative RF = absolute RF / (n + m).\n",
    "\n",
    "\n",
    "2. **Tip distance** (TT), which measures the correlation between phylogenetic distances (i.e., sum of branch lengths) among taxa\n",
    "\n",
    "  - Calculated using scikit-bio's [compare_tip_distances](http://scikit-bio.org/docs/latest/generated/skbio.tree.TreeNode.compare_tip_distances.html#skbio.tree.TreeNode.compare_tip_distances) function.\n",
    "  \n",
    "  - TT = (1 - r) / 2, in which *r* is the Pearson correlation coefficient between the two distance matrices. Therefore the range is 0 (positively correlated) to 0.5 (unrelated) to 1 (negatively correlated).\n",
    "\n",
    "The resulting RF or TT distance matrices are analyzed using choice of the following:\n",
    "\n",
    "1. Heatmap.\n",
    "2. Hierarchical clustering.\n",
    "3. Dimensionality reduction:\n",
    "  - PCoA and mMDS.\n",
    "  - 2D Scatter plot or interative 3D display in Emperor.\n",
    "4. Mantel test.\n",
    "5. PERMANOVA test."
   ]
  },
  {
   "cell_type": "markdown",
   "metadata": {},
   "source": [
    "## Dependencies"
   ]
  },
  {
   "cell_type": "code",
   "execution_count": 1,
   "metadata": {},
   "outputs": [],
   "source": [
    "from os import listdir\n",
    "from os.path import join, splitext"
   ]
  },
  {
   "cell_type": "code",
   "execution_count": 2,
   "metadata": {},
   "outputs": [],
   "source": [
    "import numpy as np\n",
    "import pandas as pd\n",
    "import matplotlib as mpl\n",
    "import matplotlib.pyplot as plt\n",
    "import seaborn as sns"
   ]
  },
  {
   "cell_type": "code",
   "execution_count": 3,
   "metadata": {},
   "outputs": [],
   "source": [
    "from matplotlib.lines import Line2D"
   ]
  },
  {
   "cell_type": "code",
   "execution_count": 4,
   "metadata": {},
   "outputs": [],
   "source": [
    "from scipy.stats import ttest_ind, ttest_rel\n",
    "from scipy.cluster.hierarchy import linkage, dendrogram, fcluster"
   ]
  },
  {
   "cell_type": "code",
   "execution_count": 5,
   "metadata": {},
   "outputs": [],
   "source": [
    "from skbio.tree import TreeNode\n",
    "from skbio.stats.distance import DistanceMatrix\n",
    "from skbio.stats.ordination import pcoa as PCoA"
   ]
  },
  {
   "cell_type": "code",
   "execution_count": 6,
   "metadata": {},
   "outputs": [],
   "source": [
    "from sklearn.manifold import MDS"
   ]
  },
  {
   "cell_type": "code",
   "execution_count": 7,
   "metadata": {},
   "outputs": [],
   "source": [
    "%matplotlib inline"
   ]
  },
  {
   "cell_type": "code",
   "execution_count": 8,
   "metadata": {},
   "outputs": [],
   "source": [
    "sns.set_palette('muted')"
   ]
  },
  {
   "cell_type": "markdown",
   "metadata": {},
   "source": [
    "## Helpers"
   ]
  },
  {
   "cell_type": "markdown",
   "metadata": {},
   "source": [
    "Prune two trees to shared taxon set"
   ]
  },
  {
   "cell_type": "code",
   "execution_count": 9,
   "metadata": {},
   "outputs": [],
   "source": [
    "def nshare(tree1, tree2):\n",
    "    taxa1 = tree1.subset()\n",
    "    taxa2 = tree2.subset()\n",
    "    return len(taxa1.intersection(taxa2))"
   ]
  },
  {
   "cell_type": "markdown",
   "metadata": {},
   "source": [
    "Calculate normalized Robinson–Foulds distance"
   ]
  },
  {
   "cell_type": "code",
   "execution_count": 10,
   "metadata": {},
   "outputs": [],
   "source": [
    "def rfd(tree1, tree2):\n",
    "    taxa1 = tree1.subset()\n",
    "    taxa2 = tree2.subset()\n",
    "    if taxa1 != taxa2:\n",
    "        taxa = taxa1.intersection(taxa2)\n",
    "        if len(taxa) == 0:\n",
    "            raise ValueError('No shared taxa found.')\n",
    "        tcopy1 = tree1.shear(taxa)\n",
    "        tcopy2 = tree2.shear(taxa)\n",
    "        return tcopy1.compare_rfd(tcopy2, proportion=True)\n",
    "    else:\n",
    "        return tree1.compare_rfd(tree2, proportion=True)"
   ]
  },
  {
   "cell_type": "markdown",
   "metadata": {},
   "source": [
    "Calculate \"tip distance\""
   ]
  },
  {
   "cell_type": "code",
   "execution_count": 11,
   "metadata": {},
   "outputs": [],
   "source": [
    "def ttd(tree1, tree2):\n",
    "    if tree1 is tree2:\n",
    "        return 0.0\n",
    "    taxa1 = tree1.subset()\n",
    "    taxa2 = tree2.subset()\n",
    "    if taxa1 != taxa2:\n",
    "        taxa = taxa1.intersection(taxa2)\n",
    "        if len(taxa) == 0:\n",
    "            raise ValueError('No shared taxa found.')\n",
    "        tcopy1 = tree1.shear(taxa)\n",
    "        tcopy2 = tree2.shear(taxa)\n",
    "        return tcopy1.compare_tip_distances(tcopy2)\n",
    "    else:\n",
    "        return tree1.compare_tip_distances(tree2)"
   ]
  },
  {
   "cell_type": "markdown",
   "metadata": {},
   "source": [
    "Generate an Emperor-compatible coordinates file"
   ]
  },
  {
   "cell_type": "code",
   "execution_count": 12,
   "metadata": {},
   "outputs": [],
   "source": [
    "def make_emp_coods(coords):\n",
    "    n, m = coords.shape \n",
    "    res = []\n",
    "    res.append('Eigvals\\t%d' % m)\n",
    "    res.append('\\t'.join(['0'] * m))\n",
    "    res.append('')\n",
    "    res.append('Proportion explained\\t%d' % m)\n",
    "    res.append('\\t'.join(['0'] * m))\n",
    "    res.append('')\n",
    "    res.append('Species\\t0\\t0')\n",
    "    res.append('')\n",
    "    res.append('Site\\t%d\\t%d' % (n, m))\n",
    "    for row in coords.itertuples():\n",
    "        res.append('\\t'.join([str(x) for x in row]))\n",
    "    res.append('')\n",
    "    res.append('Biplot\\t0\\t0')\n",
    "    res.append('')\n",
    "    res.append('Site constraints\\t0\\t0')\n",
    "    return res"
   ]
  },
  {
   "cell_type": "markdown",
   "metadata": {},
   "source": [
    "Read Emperor coordinates file"
   ]
  },
  {
   "cell_type": "code",
   "execution_count": 13,
   "metadata": {},
   "outputs": [],
   "source": [
    "def read_emp_coords(f):\n",
    "    reading = False\n",
    "    loads, coords = [], []\n",
    "    for line in f:\n",
    "        line = line.rstrip('\\r\\n')\n",
    "        if line.startswith('Proportion explained'):\n",
    "            loads = [float(x) for x in next(f).rstrip('\\r\\n').split('\\t')]\n",
    "            continue\n",
    "        if line.startswith('Site'):\n",
    "            reading = True\n",
    "            continue\n",
    "        if reading:\n",
    "            if line == '':\n",
    "                break\n",
    "            row = line.split('\\t')\n",
    "            coords.append((row[0], [float(x) for x in row[1:]]))\n",
    "    return loads, coords"
   ]
  },
  {
   "cell_type": "markdown",
   "metadata": {},
   "source": [
    "## Input files"
   ]
  },
  {
   "cell_type": "code",
   "execution_count": 16,
   "metadata": {},
   "outputs": [
    {
     "data": {
      "text/html": [
       "<div>\n",
       "<style scoped>\n",
       "    .dataframe tbody tr th:only-of-type {\n",
       "        vertical-align: middle;\n",
       "    }\n",
       "\n",
       "    .dataframe tbody tr th {\n",
       "        vertical-align: top;\n",
       "    }\n",
       "\n",
       "    .dataframe thead th {\n",
       "        text-align: right;\n",
       "    }\n",
       "</style>\n",
       "<table border=\"1\" class=\"dataframe\">\n",
       "  <thead>\n",
       "    <tr style=\"text-align: right;\">\n",
       "      <th></th>\n",
       "      <th>method</th>\n",
       "      <th>support</th>\n",
       "      <th>sites</th>\n",
       "      <th>taxa</th>\n",
       "    </tr>\n",
       "    <tr>\n",
       "      <th>name</th>\n",
       "      <th></th>\n",
       "      <th></th>\n",
       "      <th></th>\n",
       "      <th></th>\n",
       "    </tr>\n",
       "  </thead>\n",
       "  <tbody>\n",
       "    <tr>\n",
       "      <th>astral</th>\n",
       "      <td>ASTRAL</td>\n",
       "      <td>lpp</td>\n",
       "      <td>all</td>\n",
       "      <td>all</td>\n",
       "    </tr>\n",
       "    <tr>\n",
       "      <th>concat.cons</th>\n",
       "      <td>CONCAT</td>\n",
       "      <td>xboot</td>\n",
       "      <td>conserved</td>\n",
       "      <td>all</td>\n",
       "    </tr>\n",
       "    <tr>\n",
       "      <th>concat.rand</th>\n",
       "      <td>CONCAT</td>\n",
       "      <td>xboot</td>\n",
       "      <td>random</td>\n",
       "      <td>all</td>\n",
       "    </tr>\n",
       "    <tr>\n",
       "      <th>concat.rpls</th>\n",
       "      <td>CONCAT</td>\n",
       "      <td>xboot</td>\n",
       "      <td>r-proteins</td>\n",
       "      <td>all</td>\n",
       "    </tr>\n",
       "    <tr>\n",
       "      <th>concat.fast</th>\n",
       "      <td>FastTree</td>\n",
       "      <td>alrt</td>\n",
       "      <td>all</td>\n",
       "      <td>all</td>\n",
       "    </tr>\n",
       "    <tr>\n",
       "      <th>concat.al1k</th>\n",
       "      <td>CONCAT</td>\n",
       "      <td>xboot</td>\n",
       "      <td>all</td>\n",
       "      <td>1k</td>\n",
       "    </tr>\n",
       "    <tr>\n",
       "      <th>pmsf.cons</th>\n",
       "      <td>PMSF</td>\n",
       "      <td>ufboot</td>\n",
       "      <td>conserved</td>\n",
       "      <td>1k</td>\n",
       "    </tr>\n",
       "    <tr>\n",
       "      <th>pmsf.rand</th>\n",
       "      <td>PMSF</td>\n",
       "      <td>ufboot</td>\n",
       "      <td>random</td>\n",
       "      <td>1k</td>\n",
       "    </tr>\n",
       "    <tr>\n",
       "      <th>pmsf.rpls</th>\n",
       "      <td>PMSF</td>\n",
       "      <td>ufboot</td>\n",
       "      <td>r-proteins</td>\n",
       "      <td>1k</td>\n",
       "    </tr>\n",
       "    <tr>\n",
       "      <th>gtdb</th>\n",
       "      <td>FastTree</td>\n",
       "      <td>boot</td>\n",
       "      <td>na</td>\n",
       "      <td>na</td>\n",
       "    </tr>\n",
       "  </tbody>\n",
       "</table>\n",
       "</div>"
      ],
      "text/plain": [
       "               method support       sites taxa\n",
       "name                                          \n",
       "astral         ASTRAL     lpp         all  all\n",
       "concat.cons    CONCAT   xboot   conserved  all\n",
       "concat.rand    CONCAT   xboot      random  all\n",
       "concat.rpls    CONCAT   xboot  r-proteins  all\n",
       "concat.fast  FastTree    alrt         all  all\n",
       "concat.al1k    CONCAT   xboot         all   1k\n",
       "pmsf.cons        PMSF  ufboot   conserved   1k\n",
       "pmsf.rand        PMSF  ufboot      random   1k\n",
       "pmsf.rpls        PMSF  ufboot  r-proteins   1k\n",
       "gtdb         FastTree    boot          na   na"
      ]
     },
     "execution_count": 16,
     "metadata": {},
     "output_type": "execute_result"
    }
   ],
   "source": [
    "meta = pd.read_csv('metadata.tsv', sep='\\t', index_col=0)\n",
    "meta"
   ]
  },
  {
   "cell_type": "code",
   "execution_count": 23,
   "metadata": {},
   "outputs": [],
   "source": [
    "ids = meta.index.tolist()"
   ]
  },
  {
   "cell_type": "code",
   "execution_count": 17,
   "metadata": {},
   "outputs": [],
   "source": [
    "trees = {x: TreeNode.read('../../release/%s.nwk' % x) for x in ids}"
   ]
  },
  {
   "cell_type": "code",
   "execution_count": 24,
   "metadata": {},
   "outputs": [
    {
     "name": "stdout",
     "output_type": "stream",
     "text": [
      "astral\t10575\n",
      "concat.cons\t10575\n",
      "concat.rand\t10575\n",
      "concat.rpls\t9814\n",
      "concat.fast\t10575\n",
      "concat.al1k\t1000\n",
      "pmsf.cons\t1000\n",
      "pmsf.rand\t1000\n",
      "pmsf.rpls\t955\n",
      "gtdb\t8042\n"
     ]
    }
   ],
   "source": [
    "for tree in ids:\n",
    "    print('%s\\t%s' % (tree, trees[tree].count(tips=True)))"
   ]
  },
  {
   "cell_type": "code",
   "execution_count": 19,
   "metadata": {},
   "outputs": [],
   "source": [
    "for k, v in trees.items():\n",
    "    for tree in v:\n",
    "        for node in tree.traverse():\n",
    "            if node.length is None:\n",
    "                node.length = 0.0"
   ]
  },
  {
   "cell_type": "markdown",
   "metadata": {},
   "source": [
    "## Distance calculation"
   ]
  },
  {
   "cell_type": "markdown",
   "metadata": {},
   "source": [
    "### Robinson–Foulds distance"
   ]
  },
  {
   "cell_type": "code",
   "execution_count": 25,
   "metadata": {},
   "outputs": [
    {
     "data": {
      "text/html": [
       "<div>\n",
       "<style scoped>\n",
       "    .dataframe tbody tr th:only-of-type {\n",
       "        vertical-align: middle;\n",
       "    }\n",
       "\n",
       "    .dataframe tbody tr th {\n",
       "        vertical-align: top;\n",
       "    }\n",
       "\n",
       "    .dataframe thead th {\n",
       "        text-align: right;\n",
       "    }\n",
       "</style>\n",
       "<table border=\"1\" class=\"dataframe\">\n",
       "  <thead>\n",
       "    <tr style=\"text-align: right;\">\n",
       "      <th></th>\n",
       "      <th>astral</th>\n",
       "      <th>concat.cons</th>\n",
       "      <th>concat.rand</th>\n",
       "      <th>concat.rpls</th>\n",
       "      <th>concat.fast</th>\n",
       "      <th>concat.al1k</th>\n",
       "      <th>pmsf.cons</th>\n",
       "      <th>pmsf.rand</th>\n",
       "      <th>pmsf.rpls</th>\n",
       "      <th>gtdb</th>\n",
       "    </tr>\n",
       "  </thead>\n",
       "  <tbody>\n",
       "    <tr>\n",
       "      <th>astral</th>\n",
       "      <td>0.000000</td>\n",
       "      <td>0.312390</td>\n",
       "      <td>0.260245</td>\n",
       "      <td>0.253218</td>\n",
       "      <td>0.256512</td>\n",
       "      <td>0.328657</td>\n",
       "      <td>0.357715</td>\n",
       "      <td>0.324649</td>\n",
       "      <td>0.306401</td>\n",
       "      <td>0.185697</td>\n",
       "    </tr>\n",
       "    <tr>\n",
       "      <th>concat.cons</th>\n",
       "      <td>0.312390</td>\n",
       "      <td>0.000000</td>\n",
       "      <td>0.178961</td>\n",
       "      <td>0.340374</td>\n",
       "      <td>0.215869</td>\n",
       "      <td>0.296593</td>\n",
       "      <td>0.305611</td>\n",
       "      <td>0.291583</td>\n",
       "      <td>0.392445</td>\n",
       "      <td>0.276053</td>\n",
       "    </tr>\n",
       "    <tr>\n",
       "      <th>concat.rand</th>\n",
       "      <td>0.260245</td>\n",
       "      <td>0.178961</td>\n",
       "      <td>0.000000</td>\n",
       "      <td>0.303927</td>\n",
       "      <td>0.155872</td>\n",
       "      <td>0.289579</td>\n",
       "      <td>0.320641</td>\n",
       "      <td>0.265531</td>\n",
       "      <td>0.353620</td>\n",
       "      <td>0.235861</td>\n",
       "    </tr>\n",
       "    <tr>\n",
       "      <th>concat.rpls</th>\n",
       "      <td>0.253218</td>\n",
       "      <td>0.340374</td>\n",
       "      <td>0.303927</td>\n",
       "      <td>0.000000</td>\n",
       "      <td>0.309172</td>\n",
       "      <td>0.352571</td>\n",
       "      <td>0.386149</td>\n",
       "      <td>0.366212</td>\n",
       "      <td>0.229801</td>\n",
       "      <td>0.224945</td>\n",
       "    </tr>\n",
       "    <tr>\n",
       "      <th>concat.fast</th>\n",
       "      <td>0.256512</td>\n",
       "      <td>0.215869</td>\n",
       "      <td>0.155872</td>\n",
       "      <td>0.309172</td>\n",
       "      <td>0.000000</td>\n",
       "      <td>0.280561</td>\n",
       "      <td>0.317635</td>\n",
       "      <td>0.277555</td>\n",
       "      <td>0.365163</td>\n",
       "      <td>0.229889</td>\n",
       "    </tr>\n",
       "  </tbody>\n",
       "</table>\n",
       "</div>"
      ],
      "text/plain": [
       "               astral  concat.cons  concat.rand  concat.rpls  concat.fast  \\\n",
       "astral       0.000000     0.312390     0.260245     0.253218     0.256512   \n",
       "concat.cons  0.312390     0.000000     0.178961     0.340374     0.215869   \n",
       "concat.rand  0.260245     0.178961     0.000000     0.303927     0.155872   \n",
       "concat.rpls  0.253218     0.340374     0.303927     0.000000     0.309172   \n",
       "concat.fast  0.256512     0.215869     0.155872     0.309172     0.000000   \n",
       "\n",
       "             concat.al1k  pmsf.cons  pmsf.rand  pmsf.rpls      gtdb  \n",
       "astral          0.328657   0.357715   0.324649   0.306401  0.185697  \n",
       "concat.cons     0.296593   0.305611   0.291583   0.392445  0.276053  \n",
       "concat.rand     0.289579   0.320641   0.265531   0.353620  0.235861  \n",
       "concat.rpls     0.352571   0.386149   0.366212   0.229801  0.224945  \n",
       "concat.fast     0.280561   0.317635   0.277555   0.365163  0.229889  "
      ]
     },
     "execution_count": 25,
     "metadata": {},
     "output_type": "execute_result"
    }
   ],
   "source": [
    "rfdm = DistanceMatrix.from_iterable([trees[i] for i in ids], rfd, keys=ids)\n",
    "rfdm.to_data_frame().head()"
   ]
  },
  {
   "cell_type": "code",
   "execution_count": 26,
   "metadata": {},
   "outputs": [
    {
     "data": {
      "image/png": "[encoded data removed]",
      "text/plain": [
       "<Figure size 432x288 with 2 Axes>"
      ]
     },
     "metadata": {
      "needs_background": "light"
     },
     "output_type": "display_data"
    }
   ],
   "source": [
    "fig = rfdm.plot()\n",
    "fig.tight_layout()\n",
    "fig.savefig('rfdm.pdf', bbox_to_inches='tight')"
   ]
  },
  {
   "cell_type": "code",
   "execution_count": 27,
   "metadata": {},
   "outputs": [
    {
     "data": {
      "text/plain": [
       "'rf.dm'"
      ]
     },
     "execution_count": 27,
     "metadata": {},
     "output_type": "execute_result"
    }
   ],
   "source": [
    "rfdm.write('rf.dm')"
   ]
  },
  {
   "cell_type": "code",
   "execution_count": 49,
   "metadata": {},
   "outputs": [],
   "source": [
    "rfdm_noctl = rfdm.filter([x for x in ids if x != 'gtdb'])"
   ]
  },
  {
   "cell_type": "code",
   "execution_count": 52,
   "metadata": {},
   "outputs": [
    {
     "data": {
      "text/plain": [
       "'rf.noctl.dm'"
      ]
     },
     "execution_count": 52,
     "metadata": {},
     "output_type": "execute_result"
    }
   ],
   "source": [
    "rfdm_noctl.write('rf.noctl.dm')"
   ]
  },
  {
   "cell_type": "code",
   "execution_count": 28,
   "metadata": {},
   "outputs": [
    {
     "data": {
      "image/png": "[encoded data removed]",
      "text/plain": [
       "<Figure size 432x288 with 1 Axes>"
      ]
     },
     "metadata": {
      "needs_background": "light"
     },
     "output_type": "display_data"
    }
   ],
   "source": [
    "arr = rfdm.condensed_form()\n",
    "lm = linkage(arr)\n",
    "dendrogram(lm);"
   ]
  },
  {
   "cell_type": "code",
   "execution_count": 29,
   "metadata": {},
   "outputs": [
    {
     "name": "stdout",
     "output_type": "stream",
     "text": [
      "                    /-pmsf.cons\n",
      "          /--------|\n",
      "         |         |          /-concat.al1k\n",
      "         |          \\--------|\n",
      "         |                    \\-pmsf.rand\n",
      "---------|\n",
      "         |                    /-concat.cons\n",
      "         |          /--------|\n",
      "         |         |         |          /-concat.rand\n",
      "         |         |          \\--------|\n",
      "          \\--------|                    \\-concat.fast\n",
      "                   |\n",
      "                   |          /-pmsf.rpls\n",
      "                    \\--------|\n",
      "                             |          /-concat.rpls\n",
      "                              \\--------|\n",
      "                                       |          /-astral\n",
      "                                        \\--------|\n",
      "                                                  \\-gtdb\n"
     ]
    }
   ],
   "source": [
    "tot = TreeNode.from_linkage_matrix(lm, rfdm.ids)\n",
    "print(tot.ascii_art())"
   ]
  },
  {
   "cell_type": "code",
   "execution_count": 30,
   "metadata": {},
   "outputs": [
    {
     "data": {
      "text/plain": [
       "'rfdm.hclust.nwk'"
      ]
     },
     "execution_count": 30,
     "metadata": {},
     "output_type": "execute_result"
    }
   ],
   "source": [
    "tot.write('rfdm.hclust.nwk')"
   ]
  },
  {
   "cell_type": "code",
   "execution_count": 31,
   "metadata": {},
   "outputs": [],
   "source": [
    "axes = 5"
   ]
  },
  {
   "cell_type": "code",
   "execution_count": 32,
   "metadata": {},
   "outputs": [],
   "source": [
    "columns=['PC%d' % i for i in range(1, axes + 1)]"
   ]
  },
  {
   "cell_type": "code",
   "execution_count": 33,
   "metadata": {},
   "outputs": [
    {
     "data": {
      "text/plain": [
       "0.007736988269159666"
      ]
     },
     "execution_count": 33,
     "metadata": {},
     "output_type": "execute_result"
    }
   ],
   "source": [
    "mds = MDS(n_components=axes, dissimilarity='precomputed', random_state=42,\n",
    "          max_iter=3000, eps=1e-12, n_jobs=1)\n",
    "mds.fit(rfdm.data)\n",
    "mds.stress_"
   ]
  },
  {
   "cell_type": "code",
   "execution_count": 34,
   "metadata": {},
   "outputs": [
    {
     "data": {
      "text/html": [
       "<div>\n",
       "<style scoped>\n",
       "    .dataframe tbody tr th:only-of-type {\n",
       "        vertical-align: middle;\n",
       "    }\n",
       "\n",
       "    .dataframe tbody tr th {\n",
       "        vertical-align: top;\n",
       "    }\n",
       "\n",
       "    .dataframe thead th {\n",
       "        text-align: right;\n",
       "    }\n",
       "</style>\n",
       "<table border=\"1\" class=\"dataframe\">\n",
       "  <thead>\n",
       "    <tr style=\"text-align: right;\">\n",
       "      <th></th>\n",
       "      <th>PC1</th>\n",
       "      <th>PC2</th>\n",
       "      <th>PC3</th>\n",
       "      <th>PC4</th>\n",
       "      <th>PC5</th>\n",
       "    </tr>\n",
       "  </thead>\n",
       "  <tbody>\n",
       "    <tr>\n",
       "      <th>astral</th>\n",
       "      <td>0.009561</td>\n",
       "      <td>0.164653</td>\n",
       "      <td>0.033619</td>\n",
       "      <td>-0.006532</td>\n",
       "      <td>-0.087234</td>\n",
       "    </tr>\n",
       "    <tr>\n",
       "      <th>concat.cons</th>\n",
       "      <td>-0.037014</td>\n",
       "      <td>-0.084941</td>\n",
       "      <td>0.092394</td>\n",
       "      <td>-0.051938</td>\n",
       "      <td>0.136128</td>\n",
       "    </tr>\n",
       "    <tr>\n",
       "      <th>concat.rand</th>\n",
       "      <td>-0.014258</td>\n",
       "      <td>0.036848</td>\n",
       "      <td>0.017949</td>\n",
       "      <td>-0.118890</td>\n",
       "      <td>0.092741</td>\n",
       "    </tr>\n",
       "    <tr>\n",
       "      <th>concat.rpls</th>\n",
       "      <td>-0.143501</td>\n",
       "      <td>-0.024763</td>\n",
       "      <td>0.004762</td>\n",
       "      <td>0.008653</td>\n",
       "      <td>-0.160881</td>\n",
       "    </tr>\n",
       "    <tr>\n",
       "      <th>concat.fast</th>\n",
       "      <td>0.058099</td>\n",
       "      <td>-0.020733</td>\n",
       "      <td>0.063163</td>\n",
       "      <td>-0.139019</td>\n",
       "      <td>-0.009976</td>\n",
       "    </tr>\n",
       "  </tbody>\n",
       "</table>\n",
       "</div>"
      ],
      "text/plain": [
       "                  PC1       PC2       PC3       PC4       PC5\n",
       "astral       0.009561  0.164653  0.033619 -0.006532 -0.087234\n",
       "concat.cons -0.037014 -0.084941  0.092394 -0.051938  0.136128\n",
       "concat.rand -0.014258  0.036848  0.017949 -0.118890  0.092741\n",
       "concat.rpls -0.143501 -0.024763  0.004762  0.008653 -0.160881\n",
       "concat.fast  0.058099 -0.020733  0.063163 -0.139019 -0.009976"
      ]
     },
     "execution_count": 34,
     "metadata": {},
     "output_type": "execute_result"
    }
   ],
   "source": [
    "mds = pd.DataFrame(data=mds.embedding_, index=rfdm.ids, columns=columns)\n",
    "mds.head()"
   ]
  },
  {
   "cell_type": "code",
   "execution_count": 35,
   "metadata": {},
   "outputs": [],
   "source": [
    "mds.to_csv('rf.mds.tsv', sep='\\t')"
   ]
  },
  {
   "cell_type": "code",
   "execution_count": 36,
   "metadata": {},
   "outputs": [],
   "source": [
    "with open('rf.mds.coords', 'w') as f:\n",
    "    for line in make_emp_coods(mds):\n",
    "        f.write('%s\\n' % line)"
   ]
  },
  {
   "cell_type": "markdown",
   "metadata": {},
   "source": [
    "### Tip distance"
   ]
  },
  {
   "cell_type": "code",
   "execution_count": 44,
   "metadata": {},
   "outputs": [],
   "source": [
    "ttdm = DistanceMatrix.from_iterable([trees[i] for i in ids[:-1]], ttd, keys=ids[:-1], validate=False)"
   ]
  },
  {
   "cell_type": "markdown",
   "metadata": {},
   "source": [
    "`validate=False` because the output is slightly different due to Python float number issue when shuffling left and right."
   ]
  },
  {
   "cell_type": "code",
   "execution_count": 45,
   "metadata": {},
   "outputs": [
    {
     "data": {
      "text/html": [
       "<div>\n",
       "<style scoped>\n",
       "    .dataframe tbody tr th:only-of-type {\n",
       "        vertical-align: middle;\n",
       "    }\n",
       "\n",
       "    .dataframe tbody tr th {\n",
       "        vertical-align: top;\n",
       "    }\n",
       "\n",
       "    .dataframe thead th {\n",
       "        text-align: right;\n",
       "    }\n",
       "</style>\n",
       "<table border=\"1\" class=\"dataframe\">\n",
       "  <thead>\n",
       "    <tr style=\"text-align: right;\">\n",
       "      <th></th>\n",
       "      <th>cons.g</th>\n",
       "      <th>cons.r</th>\n",
       "      <th>cons.pmsf</th>\n",
       "      <th>rand.g</th>\n",
       "      <th>rand.r</th>\n",
       "      <th>rand.pmsf</th>\n",
       "      <th>rpls.g</th>\n",
       "      <th>rpls.r</th>\n",
       "      <th>rpls.pmsf</th>\n",
       "      <th>cons.full</th>\n",
       "      <th>rand.full</th>\n",
       "      <th>rpls.full</th>\n",
       "      <th>all.1k</th>\n",
       "      <th>all.ft</th>\n",
       "    </tr>\n",
       "  </thead>\n",
       "  <tbody>\n",
       "    <tr>\n",
       "      <th>cons.g</th>\n",
       "      <td>0.000000</td>\n",
       "      <td>0.003365</td>\n",
       "      <td>0.011781</td>\n",
       "      <td>0.043585</td>\n",
       "      <td>0.043554</td>\n",
       "      <td>0.032458</td>\n",
       "      <td>0.122689</td>\n",
       "      <td>0.125601</td>\n",
       "      <td>0.158944</td>\n",
       "      <td>0.017259</td>\n",
       "      <td>0.067997</td>\n",
       "      <td>0.125146</td>\n",
       "      <td>0.060530</td>\n",
       "      <td>0.079152</td>\n",
       "    </tr>\n",
       "    <tr>\n",
       "      <th>cons.r</th>\n",
       "      <td>0.003365</td>\n",
       "      <td>0.000000</td>\n",
       "      <td>0.012108</td>\n",
       "      <td>0.045178</td>\n",
       "      <td>0.045561</td>\n",
       "      <td>0.034679</td>\n",
       "      <td>0.120442</td>\n",
       "      <td>0.123395</td>\n",
       "      <td>0.156039</td>\n",
       "      <td>0.017905</td>\n",
       "      <td>0.070206</td>\n",
       "      <td>0.123104</td>\n",
       "      <td>0.060931</td>\n",
       "      <td>0.081601</td>\n",
       "    </tr>\n",
       "    <tr>\n",
       "      <th>cons.pmsf</th>\n",
       "      <td>0.011781</td>\n",
       "      <td>0.012108</td>\n",
       "      <td>0.000000</td>\n",
       "      <td>0.064342</td>\n",
       "      <td>0.064565</td>\n",
       "      <td>0.040977</td>\n",
       "      <td>0.107975</td>\n",
       "      <td>0.110159</td>\n",
       "      <td>0.137176</td>\n",
       "      <td>0.024457</td>\n",
       "      <td>0.093341</td>\n",
       "      <td>0.109951</td>\n",
       "      <td>0.082017</td>\n",
       "      <td>0.101151</td>\n",
       "    </tr>\n",
       "    <tr>\n",
       "      <th>rand.g</th>\n",
       "      <td>0.043585</td>\n",
       "      <td>0.045178</td>\n",
       "      <td>0.064342</td>\n",
       "      <td>0.000000</td>\n",
       "      <td>0.001415</td>\n",
       "      <td>0.008655</td>\n",
       "      <td>0.173563</td>\n",
       "      <td>0.178403</td>\n",
       "      <td>0.225706</td>\n",
       "      <td>0.039027</td>\n",
       "      <td>0.020601</td>\n",
       "      <td>0.180102</td>\n",
       "      <td>0.024207</td>\n",
       "      <td>0.038239</td>\n",
       "    </tr>\n",
       "    <tr>\n",
       "      <th>rand.r</th>\n",
       "      <td>0.043554</td>\n",
       "      <td>0.045561</td>\n",
       "      <td>0.064565</td>\n",
       "      <td>0.001415</td>\n",
       "      <td>0.000000</td>\n",
       "      <td>0.009065</td>\n",
       "      <td>0.172770</td>\n",
       "      <td>0.177679</td>\n",
       "      <td>0.225096</td>\n",
       "      <td>0.038574</td>\n",
       "      <td>0.020244</td>\n",
       "      <td>0.179372</td>\n",
       "      <td>0.024121</td>\n",
       "      <td>0.037845</td>\n",
       "    </tr>\n",
       "  </tbody>\n",
       "</table>\n",
       "</div>"
      ],
      "text/plain": [
       "             cons.g    cons.r  cons.pmsf    rand.g    rand.r  rand.pmsf  \\\n",
       "cons.g     0.000000  0.003365   0.011781  0.043585  0.043554   0.032458   \n",
       "cons.r     0.003365  0.000000   0.012108  0.045178  0.045561   0.034679   \n",
       "cons.pmsf  0.011781  0.012108   0.000000  0.064342  0.064565   0.040977   \n",
       "rand.g     0.043585  0.045178   0.064342  0.000000  0.001415   0.008655   \n",
       "rand.r     0.043554  0.045561   0.064565  0.001415  0.000000   0.009065   \n",
       "\n",
       "             rpls.g    rpls.r  rpls.pmsf  cons.full  rand.full  rpls.full  \\\n",
       "cons.g     0.122689  0.125601   0.158944   0.017259   0.067997   0.125146   \n",
       "cons.r     0.120442  0.123395   0.156039   0.017905   0.070206   0.123104   \n",
       "cons.pmsf  0.107975  0.110159   0.137176   0.024457   0.093341   0.109951   \n",
       "rand.g     0.173563  0.178403   0.225706   0.039027   0.020601   0.180102   \n",
       "rand.r     0.172770  0.177679   0.225096   0.038574   0.020244   0.179372   \n",
       "\n",
       "             all.1k    all.ft  \n",
       "cons.g     0.060530  0.079152  \n",
       "cons.r     0.060931  0.081601  \n",
       "cons.pmsf  0.082017  0.101151  \n",
       "rand.g     0.024207  0.038239  \n",
       "rand.r     0.024121  0.037845  "
      ]
     },
     "execution_count": 45,
     "metadata": {},
     "output_type": "execute_result"
    }
   ],
   "source": [
    "ttdm.to_data_frame().head()"
   ]
  },
  {
   "cell_type": "code",
   "execution_count": 46,
   "metadata": {},
   "outputs": [
    {
     "data": {
      "image/png": "[encoded data removed]",
      "text/plain": [
       "<Figure size 432x288 with 2 Axes>"
      ]
     },
     "metadata": {
      "needs_background": "light"
     },
     "output_type": "display_data"
    }
   ],
   "source": [
    "fig = ttdm.plot()\n",
    "fig.tight_layout()\n",
    "fig.savefig('ttdm.pdf', bbox_to_inches='tight')"
   ]
  },
  {
   "cell_type": "code",
   "execution_count": 47,
   "metadata": {},
   "outputs": [
    {
     "data": {
      "text/plain": [
       "'tt.dm'"
      ]
     },
     "execution_count": 47,
     "metadata": {},
     "output_type": "execute_result"
    }
   ],
   "source": [
    "ttdm.write('tt.dm')"
   ]
  },
  {
   "cell_type": "code",
   "execution_count": 48,
   "metadata": {},
   "outputs": [
    {
     "data": {
      "image/png": "[encoded data removed]",
      "text/plain": [
       "<Figure size 432x288 with 1 Axes>"
      ]
     },
     "metadata": {
      "needs_background": "light"
     },
     "output_type": "display_data"
    }
   ],
   "source": [
    "arr = ttdm.condensed_form()\n",
    "lm = linkage(arr)\n",
    "dendrogram(lm);"
   ]
  },
  {
   "cell_type": "code",
   "execution_count": 49,
   "metadata": {},
   "outputs": [
    {
     "name": "stdout",
     "output_type": "stream",
     "text": [
      "                    /-rpls.pmsf\n",
      "          /--------|\n",
      "         |         |          /-rpls.full\n",
      "         |          \\--------|\n",
      "         |                   |          /-rpls.g\n",
      "         |                    \\--------|\n",
      "         |                              \\-rpls.r\n",
      "---------|\n",
      "         |                    /-cons.full\n",
      "         |          /--------|\n",
      "         |         |         |          /-cons.pmsf\n",
      "         |         |          \\--------|\n",
      "         |         |                   |          /-cons.g\n",
      "          \\--------|                    \\--------|\n",
      "                   |                              \\-cons.r\n",
      "                   |\n",
      "                   |          /-all.ft\n",
      "                    \\--------|\n",
      "                             |          /-all.1k\n",
      "                              \\--------|\n",
      "                                       |          /-rand.full\n",
      "                                        \\--------|\n",
      "                                                 |          /-rand.pmsf\n",
      "                                                  \\--------|\n",
      "                                                           |          /-rand.g\n",
      "                                                            \\--------|\n",
      "                                                                      \\-rand.r\n"
     ]
    }
   ],
   "source": [
    "tot = TreeNode.from_linkage_matrix(lm, ttdm.ids)\n",
    "print(tot.ascii_art())"
   ]
  },
  {
   "cell_type": "code",
   "execution_count": 50,
   "metadata": {},
   "outputs": [
    {
     "data": {
      "text/plain": [
       "'ttdm.hclust.nwk'"
      ]
     },
     "execution_count": 50,
     "metadata": {},
     "output_type": "execute_result"
    }
   ],
   "source": [
    "tot.write('ttdm.hclust.nwk')"
   ]
  },
  {
   "cell_type": "code",
   "execution_count": 51,
   "metadata": {},
   "outputs": [
    {
     "data": {
      "text/plain": [
       "0.004684824083904768"
      ]
     },
     "execution_count": 51,
     "metadata": {},
     "output_type": "execute_result"
    }
   ],
   "source": [
    "mds = MDS(n_components=axes, dissimilarity='precomputed', random_state=42,\n",
    "          max_iter=3000, eps=1e-12, n_jobs=1)\n",
    "mds.fit(ttdm.data)\n",
    "mds.stress_"
   ]
  },
  {
   "cell_type": "code",
   "execution_count": 52,
   "metadata": {},
   "outputs": [
    {
     "data": {
      "text/html": [
       "<div>\n",
       "<style scoped>\n",
       "    .dataframe tbody tr th:only-of-type {\n",
       "        vertical-align: middle;\n",
       "    }\n",
       "\n",
       "    .dataframe tbody tr th {\n",
       "        vertical-align: top;\n",
       "    }\n",
       "\n",
       "    .dataframe thead th {\n",
       "        text-align: right;\n",
       "    }\n",
       "</style>\n",
       "<table border=\"1\" class=\"dataframe\">\n",
       "  <thead>\n",
       "    <tr style=\"text-align: right;\">\n",
       "      <th></th>\n",
       "      <th>PC1</th>\n",
       "      <th>PC2</th>\n",
       "      <th>PC3</th>\n",
       "      <th>PC4</th>\n",
       "      <th>PC5</th>\n",
       "    </tr>\n",
       "  </thead>\n",
       "  <tbody>\n",
       "    <tr>\n",
       "      <th>cons.g</th>\n",
       "      <td>-0.005024</td>\n",
       "      <td>0.006392</td>\n",
       "      <td>0.015531</td>\n",
       "      <td>-0.001734</td>\n",
       "      <td>-0.008630</td>\n",
       "    </tr>\n",
       "    <tr>\n",
       "      <th>cons.r</th>\n",
       "      <td>-0.005321</td>\n",
       "      <td>0.006007</td>\n",
       "      <td>0.013637</td>\n",
       "      <td>-0.001174</td>\n",
       "      <td>-0.007180</td>\n",
       "    </tr>\n",
       "    <tr>\n",
       "      <th>cons.pmsf</th>\n",
       "      <td>-0.005050</td>\n",
       "      <td>0.009020</td>\n",
       "      <td>0.000080</td>\n",
       "      <td>0.005273</td>\n",
       "      <td>-0.009201</td>\n",
       "    </tr>\n",
       "    <tr>\n",
       "      <th>rand.g</th>\n",
       "      <td>-0.008093</td>\n",
       "      <td>0.002175</td>\n",
       "      <td>0.061617</td>\n",
       "      <td>-0.020258</td>\n",
       "      <td>-0.008373</td>\n",
       "    </tr>\n",
       "    <tr>\n",
       "      <th>rand.r</th>\n",
       "      <td>-0.007136</td>\n",
       "      <td>0.002298</td>\n",
       "      <td>0.061379</td>\n",
       "      <td>-0.020385</td>\n",
       "      <td>-0.008098</td>\n",
       "    </tr>\n",
       "  </tbody>\n",
       "</table>\n",
       "</div>"
      ],
      "text/plain": [
       "                PC1       PC2       PC3       PC4       PC5\n",
       "cons.g    -0.005024  0.006392  0.015531 -0.001734 -0.008630\n",
       "cons.r    -0.005321  0.006007  0.013637 -0.001174 -0.007180\n",
       "cons.pmsf -0.005050  0.009020  0.000080  0.005273 -0.009201\n",
       "rand.g    -0.008093  0.002175  0.061617 -0.020258 -0.008373\n",
       "rand.r    -0.007136  0.002298  0.061379 -0.020385 -0.008098"
      ]
     },
     "execution_count": 52,
     "metadata": {},
     "output_type": "execute_result"
    }
   ],
   "source": [
    "mds = pd.DataFrame(data=mds.embedding_, index=ttdm.ids, columns=columns)\n",
    "mds.head()"
   ]
  },
  {
   "cell_type": "code",
   "execution_count": 53,
   "metadata": {},
   "outputs": [],
   "source": [
    "mds.to_csv('tt.mds.tsv', sep='\\t')"
   ]
  },
  {
   "cell_type": "code",
   "execution_count": 54,
   "metadata": {},
   "outputs": [],
   "source": [
    "with open('tt.mds.coords', 'w') as f:\n",
    "    for line in make_emp_coods(mds):\n",
    "        f.write('%s\\n' % line)"
   ]
  },
  {
   "cell_type": "markdown",
   "metadata": {},
   "source": [
    "## QIIME analysis"
   ]
  },
  {
   "cell_type": "code",
   "execution_count": null,
   "metadata": {},
   "outputs": [],
   "source": [
    "%%script bash\n",
    "\n",
    "# import a distance matrix into QIIME\n",
    "qiime tools import --type DistanceMatrix --input-path rf.dm --output-path rf.qza\n",
    "qiime tools import --type DistanceMatrix --input-path tt.dm --output-path tt.qza\n",
    "\n",
    "# run PCoA\n",
    "qiime diversity pcoa --i-distance-matrix rf.qza --o-pcoa rf.pcoa.qza\n",
    "qiime diversity pcoa --i-distance-matrix tt.qza --o-pcoa tt.pcoa.qza\n",
    "\n",
    "# export PCoA coordinates\n",
    "qiime tools export --input-path rf.pcoa.qza --output-path .\n",
    "mv ordination.txt rf.pcoa.coords\n",
    "qiime tools export --input-path tt.pcoa.qza --output-path .\n",
    "mv ordination.txt tt.pcoa.coords\n",
    "\n",
    "# import mMDS coordinates into QIIME\n",
    "qiime tools import --type PCoAResults --input-path rf.mds.coords --output-path rf.mds.qza\n",
    "qiime tools import --type PCoAResults --input-path tt.mds.coords --output-path tt.mds.qza\n",
    "\n",
    "# generate interactive PCoA or mMDS plot\n",
    "qiime emperor plot --i-pcoa rf.pcoa.qza --m-metadata-file metadata.tsv --o-visualization rf.pcoa.qzv\n",
    "qiime emperor plot --i-pcoa tt.pcoa.qza --m-metadata-file metadata.tsv --o-visualization tt.pcoa.qzv\n",
    "qiime emperor plot --i-pcoa rf.mds.qza --m-metadata-file metadata.tsv --o-visualization rf.mds.qzv\n",
    "qiime emperor plot --i-pcoa tt.mds.qza --m-metadata-file metadata.tsv --o-visualization tt.mds.qzv\n",
    "\n",
    "# compare two distance matrices using the Mantel test\n",
    "qiime diversity mantel --i-dm1 rf.qza --i-dm1 tt.qza\n",
    "\n",
    "# assess separation by metadata column using the PERMANOVA test\n",
    "qiime diversity beta-group-significance \\\n",
    "  --i-distance-matrix rf.qza \\\n",
    "  --m-metadata-file metadata.tsv \\\n",
    "  --m-metadata-column method \\\n",
    "  --o-visualization rf.permanova.method.qzv \\\n",
    "  --p-pairwise"
   ]
  },
  {
   "cell_type": "markdown",
   "metadata": {},
   "source": [
    "## Distance plots"
   ]
  },
  {
   "cell_type": "code",
   "execution_count": 38,
   "metadata": {},
   "outputs": [],
   "source": [
    "rfs = np.triu(rfdm.redundant_form())"
   ]
  },
  {
   "cell_type": "code",
   "execution_count": 43,
   "metadata": {},
   "outputs": [],
   "source": [
    "ticks = [x + 0.5 for x in range(len(ids))]"
   ]
  },
  {
   "cell_type": "code",
   "execution_count": 46,
   "metadata": {},
   "outputs": [
    {
     "data": {
      "image/png": "[encoded data removed]",
      "text/plain": [
       "<Figure size 432x432 with 2 Axes>"
      ]
     },
     "metadata": {
      "needs_background": "light"
     },
     "output_type": "display_data"
    }
   ],
   "source": [
    "fig = plt.figure(figsize=(6, 6))\n",
    "plt.gca().set_aspect('equal')\n",
    "plt.pcolormesh(rfs.T, cmap='Blues')\n",
    "plt.xticks(ticks, labels=ids)\n",
    "plt.yticks(ticks, labels=ids)\n",
    "plt.colorbar();"
   ]
  },
  {
   "cell_type": "code",
   "execution_count": 47,
   "metadata": {},
   "outputs": [],
   "source": [
    "fig.tight_layout()\n",
    "fig.savefig('rf.heat.pdf', bbox_inches='tight')"
   ]
  },
  {
   "cell_type": "markdown",
   "metadata": {},
   "source": [
    "### PCoAs"
   ]
  },
  {
   "cell_type": "markdown",
   "metadata": {},
   "source": [
    "Read data"
   ]
  },
  {
   "cell_type": "code",
   "execution_count": 326,
   "metadata": {},
   "outputs": [
    {
     "data": {
      "text/html": [
       "<div>\n",
       "<style scoped>\n",
       "    .dataframe tbody tr th:only-of-type {\n",
       "        vertical-align: middle;\n",
       "    }\n",
       "\n",
       "    .dataframe tbody tr th {\n",
       "        vertical-align: top;\n",
       "    }\n",
       "\n",
       "    .dataframe thead th {\n",
       "        text-align: right;\n",
       "    }\n",
       "</style>\n",
       "<table border=\"1\" class=\"dataframe\">\n",
       "  <thead>\n",
       "    <tr style=\"text-align: right;\">\n",
       "      <th></th>\n",
       "      <th>loci</th>\n",
       "      <th>site</th>\n",
       "      <th>model</th>\n",
       "      <th>taxa</th>\n",
       "      <th>tool</th>\n",
       "    </tr>\n",
       "    <tr>\n",
       "      <th>#SampleID</th>\n",
       "      <th></th>\n",
       "      <th></th>\n",
       "      <th></th>\n",
       "      <th></th>\n",
       "      <th></th>\n",
       "    </tr>\n",
       "  </thead>\n",
       "  <tbody>\n",
       "    <tr>\n",
       "      <th>cons.g</th>\n",
       "      <td>glob</td>\n",
       "      <td>cons</td>\n",
       "      <td>g</td>\n",
       "      <td>1k</td>\n",
       "      <td>iqtree</td>\n",
       "    </tr>\n",
       "    <tr>\n",
       "      <th>cons.r</th>\n",
       "      <td>glob</td>\n",
       "      <td>cons</td>\n",
       "      <td>r</td>\n",
       "      <td>1k</td>\n",
       "      <td>iqtree</td>\n",
       "    </tr>\n",
       "    <tr>\n",
       "      <th>cons.pmsf</th>\n",
       "      <td>glob</td>\n",
       "      <td>cons</td>\n",
       "      <td>pmsf</td>\n",
       "      <td>1k</td>\n",
       "      <td>iqtree</td>\n",
       "    </tr>\n",
       "    <tr>\n",
       "      <th>rand.g</th>\n",
       "      <td>glob</td>\n",
       "      <td>rand</td>\n",
       "      <td>g</td>\n",
       "      <td>1k</td>\n",
       "      <td>iqtree</td>\n",
       "    </tr>\n",
       "    <tr>\n",
       "      <th>rand.r</th>\n",
       "      <td>glob</td>\n",
       "      <td>rand</td>\n",
       "      <td>r</td>\n",
       "      <td>1k</td>\n",
       "      <td>iqtree</td>\n",
       "    </tr>\n",
       "  </tbody>\n",
       "</table>\n",
       "</div>"
      ],
      "text/plain": [
       "           loci  site model taxa    tool\n",
       "#SampleID                               \n",
       "cons.g     glob  cons     g   1k  iqtree\n",
       "cons.r     glob  cons     r   1k  iqtree\n",
       "cons.pmsf  glob  cons  pmsf   1k  iqtree\n",
       "rand.g     glob  rand     g   1k  iqtree\n",
       "rand.r     glob  rand     r   1k  iqtree"
      ]
     },
     "execution_count": 326,
     "metadata": {},
     "output_type": "execute_result"
    }
   ],
   "source": [
    "df = pd.read_csv(meta_fp, sep='\\t', index_col=0)\n",
    "df.head()"
   ]
  },
  {
   "cell_type": "code",
   "execution_count": 327,
   "metadata": {},
   "outputs": [],
   "source": [
    "with open('rf.pcoa.coords', 'r') as f:\n",
    "    rf_loads, rf_coords = read_emp_coords(f)"
   ]
  },
  {
   "cell_type": "code",
   "execution_count": 328,
   "metadata": {},
   "outputs": [],
   "source": [
    "dfrf = pd.DataFrame(dict(rf_coords)).head(3).T\n",
    "dfrf.columns = ['rf_pcoa1', 'rf_pcoa2', 'rf_pcoa3']"
   ]
  },
  {
   "cell_type": "code",
   "execution_count": 329,
   "metadata": {},
   "outputs": [],
   "source": [
    "df = pd.concat([df, dfrf], axis=1)"
   ]
  },
  {
   "cell_type": "code",
   "execution_count": 330,
   "metadata": {},
   "outputs": [],
   "source": [
    "with open('tt.pcoa.coords', 'r') as f:\n",
    "    tt_loads, tt_coords = read_emp_coords(f)"
   ]
  },
  {
   "cell_type": "code",
   "execution_count": 331,
   "metadata": {},
   "outputs": [],
   "source": [
    "dftt = pd.DataFrame(dict(tt_coords)).head(3).T\n",
    "dftt.columns = ['tt_pcoa1', 'tt_pcoa2', 'tt_pcoa3']"
   ]
  },
  {
   "cell_type": "code",
   "execution_count": 332,
   "metadata": {},
   "outputs": [],
   "source": [
    "df = pd.concat([df, dftt], axis=1, sort=False)"
   ]
  },
  {
   "cell_type": "code",
   "execution_count": 333,
   "metadata": {},
   "outputs": [
    {
     "data": {
      "text/html": [
       "<div>\n",
       "<style scoped>\n",
       "    .dataframe tbody tr th:only-of-type {\n",
       "        vertical-align: middle;\n",
       "    }\n",
       "\n",
       "    .dataframe tbody tr th {\n",
       "        vertical-align: top;\n",
       "    }\n",
       "\n",
       "    .dataframe thead th {\n",
       "        text-align: right;\n",
       "    }\n",
       "</style>\n",
       "<table border=\"1\" class=\"dataframe\">\n",
       "  <thead>\n",
       "    <tr style=\"text-align: right;\">\n",
       "      <th></th>\n",
       "      <th>loci</th>\n",
       "      <th>site</th>\n",
       "      <th>model</th>\n",
       "      <th>taxa</th>\n",
       "      <th>tool</th>\n",
       "      <th>rf_pcoa1</th>\n",
       "      <th>rf_pcoa2</th>\n",
       "      <th>rf_pcoa3</th>\n",
       "      <th>tt_pcoa1</th>\n",
       "      <th>tt_pcoa2</th>\n",
       "      <th>tt_pcoa3</th>\n",
       "    </tr>\n",
       "  </thead>\n",
       "  <tbody>\n",
       "    <tr>\n",
       "      <th>cons.g</th>\n",
       "      <td>glob</td>\n",
       "      <td>cons</td>\n",
       "      <td>g</td>\n",
       "      <td>1k</td>\n",
       "      <td>iqtree</td>\n",
       "      <td>-0.134548</td>\n",
       "      <td>-0.086041</td>\n",
       "      <td>0.085994</td>\n",
       "      <td>-0.014405</td>\n",
       "      <td>0.015797</td>\n",
       "      <td>0.000256</td>\n",
       "    </tr>\n",
       "    <tr>\n",
       "      <th>cons.r</th>\n",
       "      <td>glob</td>\n",
       "      <td>cons</td>\n",
       "      <td>r</td>\n",
       "      <td>1k</td>\n",
       "      <td>iqtree</td>\n",
       "      <td>-0.142440</td>\n",
       "      <td>-0.070604</td>\n",
       "      <td>0.095630</td>\n",
       "      <td>-0.012164</td>\n",
       "      <td>0.016145</td>\n",
       "      <td>-0.001151</td>\n",
       "    </tr>\n",
       "    <tr>\n",
       "      <th>cons.pmsf</th>\n",
       "      <td>glob</td>\n",
       "      <td>cons</td>\n",
       "      <td>pmsf</td>\n",
       "      <td>1k</td>\n",
       "      <td>iqtree</td>\n",
       "      <td>-0.118920</td>\n",
       "      <td>-0.074918</td>\n",
       "      <td>0.035050</td>\n",
       "      <td>0.004261</td>\n",
       "      <td>0.029172</td>\n",
       "      <td>0.000986</td>\n",
       "    </tr>\n",
       "    <tr>\n",
       "      <th>rand.g</th>\n",
       "      <td>glob</td>\n",
       "      <td>rand</td>\n",
       "      <td>g</td>\n",
       "      <td>1k</td>\n",
       "      <td>iqtree</td>\n",
       "      <td>-0.123182</td>\n",
       "      <td>-0.044060</td>\n",
       "      <td>-0.064860</td>\n",
       "      <td>-0.071508</td>\n",
       "      <td>0.009869</td>\n",
       "      <td>-0.006953</td>\n",
       "    </tr>\n",
       "    <tr>\n",
       "      <th>rand.r</th>\n",
       "      <td>glob</td>\n",
       "      <td>rand</td>\n",
       "      <td>r</td>\n",
       "      <td>1k</td>\n",
       "      <td>iqtree</td>\n",
       "      <td>-0.124673</td>\n",
       "      <td>-0.047599</td>\n",
       "      <td>-0.066231</td>\n",
       "      <td>-0.070826</td>\n",
       "      <td>0.008662</td>\n",
       "      <td>-0.006848</td>\n",
       "    </tr>\n",
       "  </tbody>\n",
       "</table>\n",
       "</div>"
      ],
      "text/plain": [
       "           loci  site model taxa    tool  rf_pcoa1  rf_pcoa2  rf_pcoa3  \\\n",
       "cons.g     glob  cons     g   1k  iqtree -0.134548 -0.086041  0.085994   \n",
       "cons.r     glob  cons     r   1k  iqtree -0.142440 -0.070604  0.095630   \n",
       "cons.pmsf  glob  cons  pmsf   1k  iqtree -0.118920 -0.074918  0.035050   \n",
       "rand.g     glob  rand     g   1k  iqtree -0.123182 -0.044060 -0.064860   \n",
       "rand.r     glob  rand     r   1k  iqtree -0.124673 -0.047599 -0.066231   \n",
       "\n",
       "           tt_pcoa1  tt_pcoa2  tt_pcoa3  \n",
       "cons.g    -0.014405  0.015797  0.000256  \n",
       "cons.r    -0.012164  0.016145 -0.001151  \n",
       "cons.pmsf  0.004261  0.029172  0.000986  \n",
       "rand.g    -0.071508  0.009869 -0.006953  \n",
       "rand.r    -0.070826  0.008662 -0.006848  "
      ]
     },
     "execution_count": 333,
     "metadata": {},
     "output_type": "execute_result"
    }
   ],
   "source": [
    "df.head()"
   ]
  },
  {
   "cell_type": "markdown",
   "metadata": {},
   "source": [
    "RF distance"
   ]
  },
  {
   "cell_type": "code",
   "execution_count": 378,
   "metadata": {},
   "outputs": [],
   "source": [
    "sizes={'1k': 49, 'all': 81}\n",
    "markers={'all': 'o', 'cons': 'D', 'rand': 's', 'rpls': 'X'}"
   ]
  },
  {
   "cell_type": "code",
   "execution_count": 379,
   "metadata": {},
   "outputs": [
    {
     "data": {
      "image/png": "[encoded data removed]",
      "text/plain": [
       "<Figure size 360x360 with 1 Axes>"
      ]
     },
     "metadata": {},
     "output_type": "display_data"
    }
   ],
   "source": [
    "fig, ax = plt.subplots(figsize=(5, 5))\n",
    "sns.scatterplot(x='rf_pcoa1', y='rf_pcoa2', hue='model', alpha=0.75, linewidth=0,\n",
    "                style='site', markers=markers, size='taxa', sizes=sizes, data=df, ax=ax)\n",
    "ax.set_xticks([])\n",
    "ax.set_yticks([])\n",
    "ax.set_xlabel('PCoA1 (%.2f%%)' % (rf_loads[0] * 100))\n",
    "ax.set_ylabel('PCoA2 (%.2f%%)' % (rf_loads[1] * 100));"
   ]
  },
  {
   "cell_type": "code",
   "execution_count": 380,
   "metadata": {},
   "outputs": [],
   "source": [
    "fig.tight_layout()\n",
    "fig.savefig('rf.pcoa.pdf', bbox_inches='tight')"
   ]
  },
  {
   "cell_type": "code",
   "execution_count": 382,
   "metadata": {},
   "outputs": [
    {
     "data": {
      "image/png": "[encoded data removed]",
      "text/plain": [
       "<Figure size 360x360 with 1 Axes>"
      ]
     },
     "metadata": {},
     "output_type": "display_data"
    }
   ],
   "source": [
    "fig, ax = plt.subplots(figsize=(5, 5))\n",
    "sns.scatterplot(x='tt_pcoa1', y='tt_pcoa2', hue='model', alpha=0.75, linewidth=0,\n",
    "                style='site', markers=markers, size='taxa', sizes=sizes, legend=False, data=df, ax=ax)\n",
    "ax.set_xticks([])\n",
    "ax.set_yticks([])\n",
    "ax.set_xlabel('PCoA1 (%.2f%%)' % (tt_loads[0] * 100))\n",
    "ax.set_ylabel('PCoA2 (%.2f%%)' % (tt_loads[1] * 100));"
   ]
  },
  {
   "cell_type": "code",
   "execution_count": 383,
   "metadata": {},
   "outputs": [],
   "source": [
    "fig.tight_layout()\n",
    "fig.savefig('tt.pcoa.pdf', bbox_inches='tight')"
   ]
  }
 ],
 "metadata": {
  "anaconda-cloud": {},
  "hide_input": false,
  "kernelspec": {
   "display_name": "Python 3",
   "language": "python",
   "name": "python3"
  },
  "language_info": {
   "codemirror_mode": {
    "name": "ipython",
    "version": 3
   },
   "file_extension": ".py",
   "mimetype": "text/x-python",
   "name": "python",
   "nbconvert_exporter": "python",
   "pygments_lexer": "ipython3",
   "version": "3.6.8"
  }
 },
 "nbformat": 4,
 "nbformat_minor": 2
}
