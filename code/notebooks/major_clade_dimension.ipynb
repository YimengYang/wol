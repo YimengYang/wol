{
 "cells": [
  {
   "cell_type": "markdown",
   "metadata": {},
   "source": [
    "# Dimensions of major clades"
   ]
  },
  {
   "cell_type": "markdown",
   "metadata": {},
   "source": [
    "## Dependencies"
   ]
  },
  {
   "cell_type": "code",
   "execution_count": 1,
   "metadata": {},
   "outputs": [],
   "source": [
    "from statistics import median"
   ]
  },
  {
   "cell_type": "code",
   "execution_count": 2,
   "metadata": {},
   "outputs": [],
   "source": [
    "import numpy as np\n",
    "import pandas as pd\n",
    "import matplotlib as mpl\n",
    "import matplotlib.pyplot as plt\n",
    "import seaborn as sns"
   ]
  },
  {
   "cell_type": "code",
   "execution_count": 3,
   "metadata": {},
   "outputs": [],
   "source": [
    "from skbio.tree import TreeNode"
   ]
  },
  {
   "cell_type": "code",
   "execution_count": 4,
   "metadata": {},
   "outputs": [],
   "source": [
    "%matplotlib inline"
   ]
  },
  {
   "cell_type": "code",
   "execution_count": 5,
   "metadata": {},
   "outputs": [],
   "source": [
    "sns.set_palette('muted')"
   ]
  },
  {
   "cell_type": "markdown",
   "metadata": {},
   "source": [
    "## Helpers"
   ]
  },
  {
   "cell_type": "code",
   "execution_count": 6,
   "metadata": {},
   "outputs": [],
   "source": [
    "def calc_length_metrics(tree):\n",
    "    for node in tree.postorder(include_self=True):\n",
    "        if node.length is None:\n",
    "            node.length = 0.0\n",
    "        if node.is_tip():\n",
    "            node.depths = [0.0]\n",
    "        else:\n",
    "            node.depths = [y + x.length for x in node.children for y in\n",
    "                           x.depths]\n",
    "    for node in tree.preorder(include_self=True):\n",
    "        if node.is_root():\n",
    "            node.height = 0.0\n",
    "            node.red = 0.0\n",
    "        else:\n",
    "            node.height = node.parent.height + node.length\n",
    "            if node.is_tip():\n",
    "                node.red = 1.0\n",
    "            else:\n",
    "                node.red = node.parent.red + node.length \\\n",
    "                    / (node.length + sum(node.depths) / len(node.depths)) \\\n",
    "                    * (1 - node.parent.red)"
   ]
  },
  {
   "cell_type": "markdown",
   "metadata": {},
   "source": [
    "## Input files"
   ]
  },
  {
   "cell_type": "markdown",
   "metadata": {},
   "source": [
    "File paths"
   ]
  },
  {
   "cell_type": "code",
   "execution_count": 7,
   "metadata": {},
   "outputs": [],
   "source": [
    "meta_fp = 'metadata.tsv'"
   ]
  },
  {
   "cell_type": "code",
   "execution_count": 8,
   "metadata": {},
   "outputs": [],
   "source": [
    "taxa_fp = '../../complex/taxa.txt'"
   ]
  },
  {
   "cell_type": "code",
   "execution_count": 9,
   "metadata": {},
   "outputs": [],
   "source": [
    "clade_fp = '../../../taxonomy/major/maps/lv1.in.txt'"
   ]
  },
  {
   "cell_type": "code",
   "execution_count": 10,
   "metadata": {},
   "outputs": [],
   "source": [
    "dir_map = {'cons': 'conserv', 'rand': 'random', 'rpls': 'r-proteins'}"
   ]
  },
  {
   "cell_type": "code",
   "execution_count": 11,
   "metadata": {},
   "outputs": [],
   "source": [
    "tree_fps = []"
   ]
  },
  {
   "cell_type": "code",
   "execution_count": 12,
   "metadata": {},
   "outputs": [],
   "source": [
    "tree_fps.append(('all.1k', '../../concat/subsample/all_sites_1k_taxa/all.1k.nid.nwk'))\n",
    "tree_fps.append(('all.ft', '../../concat/all/fasttree/concat.fast.nid.nwk'))"
   ]
  },
  {
   "cell_type": "code",
   "execution_count": 13,
   "metadata": {},
   "outputs": [],
   "source": [
    "for x in ('cons', 'rand', 'rpls'):\n",
    "    tree_fps.append(('%s.g' % x, '../../complex/%s.1k.LG+G.nid.nwk' % x))\n",
    "    tree_fps.append(('%s.r' % x, '../../complex/%s.1k.LG+R.nid.nwk' % x))\n",
    "    tree_fps.append(('%s.pmsf' % x, '../../complex/%s.1k.LG+C60_PMSF.nid.nwk' % x))\n",
    "    tree_fps.append(('%s.full' % x, '../../concat/%s/concat.%s.nid.nwk' % (dir_map[x], x)))\n",
    "    tree_fps.append(('%s.astral' % x, '../../astral/newick/astral.%s.nwk' % x))"
   ]
  },
  {
   "cell_type": "markdown",
   "metadata": {},
   "source": [
    "Read files"
   ]
  },
  {
   "cell_type": "code",
   "execution_count": 14,
   "metadata": {},
   "outputs": [],
   "source": [
    "with open(taxa_fp, 'r') as f:\n",
    "    taxa = set(f.read().splitlines())"
   ]
  },
  {
   "cell_type": "code",
   "execution_count": 15,
   "metadata": {},
   "outputs": [],
   "source": [
    "with open(clade_fp, 'r') as f:\n",
    "    clade_map = dict(x.split('\\t') for x in f.read().splitlines())\n",
    "clade_map = {k: v for k, v in clade_map.items() if k in taxa}"
   ]
  },
  {
   "cell_type": "code",
   "execution_count": 16,
   "metadata": {},
   "outputs": [],
   "source": [
    "clades = {x: {k for k, v in clade_map.items() if v == x} for x in set(clade_map.values())}"
   ]
  },
  {
   "cell_type": "code",
   "execution_count": 17,
   "metadata": {},
   "outputs": [
    {
     "data": {
      "text/plain": [
       "['Archaea', 'CPR', 'Eubacteria']"
      ]
     },
     "execution_count": 17,
     "metadata": {},
     "output_type": "execute_result"
    }
   ],
   "source": [
    "clade_list = sorted(clades.keys())\n",
    "clade_list"
   ]
  },
  {
   "cell_type": "code",
   "execution_count": 18,
   "metadata": {},
   "outputs": [
    {
     "name": "stdout",
     "output_type": "stream",
     "text": [
      "['all.1k', 'all.ft', 'cons.g', 'cons.r', 'cons.pmsf', 'cons.full', 'cons.astral', 'rand.g', 'rand.r', 'rand.pmsf', 'rand.full', 'rand.astral', 'rpls.g', 'rpls.r', 'rpls.pmsf', 'rpls.full', 'rpls.astral']\n"
     ]
    }
   ],
   "source": [
    "ids = [x[0] for x in tree_fps]\n",
    "print(ids)"
   ]
  },
  {
   "cell_type": "code",
   "execution_count": 19,
   "metadata": {},
   "outputs": [],
   "source": [
    "trees = {x[0]: TreeNode.read(x[1]) for x in tree_fps}"
   ]
  },
  {
   "cell_type": "code",
   "execution_count": 20,
   "metadata": {},
   "outputs": [],
   "source": [
    "for x in ('cons', 'rand', 'rpls'):\n",
    "    for y in ('full', 'astral'):\n",
    "        id_ = '%s.%s' % (x, y)\n",
    "        taxa_ = trees[id_].subset().intersection(taxa)\n",
    "        trees[id_] = trees[id_].shear(taxa_)\n",
    "trees['all.ft'] = trees['all.ft'].shear(trees['all.ft'].subset().intersection(taxa))"
   ]
  },
  {
   "cell_type": "markdown",
   "metadata": {},
   "source": [
    "Fill empty branch lengths"
   ]
  },
  {
   "cell_type": "code",
   "execution_count": 21,
   "metadata": {},
   "outputs": [],
   "source": [
    "for k, v in trees.items():\n",
    "    for tree in v:\n",
    "        for node in tree.traverse():\n",
    "            if node.length is None:\n",
    "                node.length = 0.0"
   ]
  },
  {
   "cell_type": "markdown",
   "metadata": {},
   "source": [
    "## Branch statistics"
   ]
  },
  {
   "cell_type": "markdown",
   "metadata": {},
   "source": [
    "Calculate branch length-related metrics"
   ]
  },
  {
   "cell_type": "code",
   "execution_count": 22,
   "metadata": {},
   "outputs": [],
   "source": [
    "for _, tree in trees.items():\n",
    "    calc_length_metrics(tree)"
   ]
  },
  {
   "cell_type": "markdown",
   "metadata": {},
   "source": [
    "Radius of each tree"
   ]
  },
  {
   "cell_type": "code",
   "execution_count": 23,
   "metadata": {},
   "outputs": [],
   "source": [
    "radia = {k: median(v.depths) for k, v in trees.items()}"
   ]
  },
  {
   "cell_type": "markdown",
   "metadata": {},
   "source": [
    "Per-clade statistics"
   ]
  },
  {
   "cell_type": "code",
   "execution_count": 24,
   "metadata": {
    "scrolled": true
   },
   "outputs": [],
   "source": [
    "data = []\n",
    "for name, tree in trees.items():\n",
    "    data.append([name, radia[name]])\n",
    "    for clade in clade_list:\n",
    "        taxa_ = tree.subset().intersection(clades[clade])\n",
    "        node = tree.lca(taxa_)\n",
    "        if node.subset() != taxa_:\n",
    "            data[-1].extend([None, None, None])\n",
    "            continue\n",
    "        height = node.length\n",
    "        if clade == 'Archaea':\n",
    "            height *= 2\n",
    "        depth = median(node.depths)\n",
    "        ratio = height / depth\n",
    "        data[-1].extend([height, depth, ratio])"
   ]
  },
  {
   "cell_type": "code",
   "execution_count": 25,
   "metadata": {
    "scrolled": true
   },
   "outputs": [
    {
     "data": {
      "text/html": [
       "<div>\n",
       "<style scoped>\n",
       "    .dataframe tbody tr th:only-of-type {\n",
       "        vertical-align: middle;\n",
       "    }\n",
       "\n",
       "    .dataframe tbody tr th {\n",
       "        vertical-align: top;\n",
       "    }\n",
       "\n",
       "    .dataframe thead th {\n",
       "        text-align: right;\n",
       "    }\n",
       "</style>\n",
       "<table border=\"1\" class=\"dataframe\">\n",
       "  <thead>\n",
       "    <tr style=\"text-align: right;\">\n",
       "      <th></th>\n",
       "      <th>radius</th>\n",
       "      <th>Archaea_height</th>\n",
       "      <th>Archaea_depth</th>\n",
       "      <th>Archaea_ratio</th>\n",
       "      <th>CPR_height</th>\n",
       "      <th>CPR_depth</th>\n",
       "      <th>CPR_ratio</th>\n",
       "      <th>Eubacteria_height</th>\n",
       "      <th>Eubacteria_depth</th>\n",
       "      <th>Eubacteria_ratio</th>\n",
       "    </tr>\n",
       "    <tr>\n",
       "      <th>tree</th>\n",
       "      <th></th>\n",
       "      <th></th>\n",
       "      <th></th>\n",
       "      <th></th>\n",
       "      <th></th>\n",
       "      <th></th>\n",
       "      <th></th>\n",
       "      <th></th>\n",
       "      <th></th>\n",
       "      <th></th>\n",
       "    </tr>\n",
       "  </thead>\n",
       "  <tbody>\n",
       "    <tr>\n",
       "      <th>all.1k</th>\n",
       "      <td>1.332852</td>\n",
       "      <td>0.169972</td>\n",
       "      <td>1.046816</td>\n",
       "      <td>0.162370</td>\n",
       "      <td>0.153735</td>\n",
       "      <td>1.113456</td>\n",
       "      <td>0.138071</td>\n",
       "      <td>0.069774</td>\n",
       "      <td>1.188847</td>\n",
       "      <td>0.058690</td>\n",
       "    </tr>\n",
       "    <tr>\n",
       "      <th>all.ft</th>\n",
       "      <td>1.749837</td>\n",
       "      <td>0.210401</td>\n",
       "      <td>1.329346</td>\n",
       "      <td>0.158274</td>\n",
       "      <td>0.238584</td>\n",
       "      <td>1.446355</td>\n",
       "      <td>0.164955</td>\n",
       "      <td>NaN</td>\n",
       "      <td>NaN</td>\n",
       "      <td>NaN</td>\n",
       "    </tr>\n",
       "    <tr>\n",
       "      <th>cons.g</th>\n",
       "      <td>0.706015</td>\n",
       "      <td>0.109772</td>\n",
       "      <td>0.669294</td>\n",
       "      <td>0.164012</td>\n",
       "      <td>0.081533</td>\n",
       "      <td>0.731724</td>\n",
       "      <td>0.111426</td>\n",
       "      <td>0.038142</td>\n",
       "      <td>0.588887</td>\n",
       "      <td>0.064769</td>\n",
       "    </tr>\n",
       "    <tr>\n",
       "      <th>cons.r</th>\n",
       "      <td>0.614697</td>\n",
       "      <td>0.093849</td>\n",
       "      <td>0.589953</td>\n",
       "      <td>0.159079</td>\n",
       "      <td>0.071903</td>\n",
       "      <td>0.625998</td>\n",
       "      <td>0.114861</td>\n",
       "      <td>0.018443</td>\n",
       "      <td>0.525590</td>\n",
       "      <td>0.035090</td>\n",
       "    </tr>\n",
       "    <tr>\n",
       "      <th>cons.pmsf</th>\n",
       "      <td>0.981989</td>\n",
       "      <td>0.167806</td>\n",
       "      <td>1.049143</td>\n",
       "      <td>0.159946</td>\n",
       "      <td>0.120048</td>\n",
       "      <td>1.128478</td>\n",
       "      <td>0.106380</td>\n",
       "      <td>0.041744</td>\n",
       "      <td>0.807889</td>\n",
       "      <td>0.051671</td>\n",
       "    </tr>\n",
       "  </tbody>\n",
       "</table>\n",
       "</div>"
      ],
      "text/plain": [
       "             radius  Archaea_height  Archaea_depth  Archaea_ratio  CPR_height  \\\n",
       "tree                                                                            \n",
       "all.1k     1.332852        0.169972       1.046816       0.162370    0.153735   \n",
       "all.ft     1.749837        0.210401       1.329346       0.158274    0.238584   \n",
       "cons.g     0.706015        0.109772       0.669294       0.164012    0.081533   \n",
       "cons.r     0.614697        0.093849       0.589953       0.159079    0.071903   \n",
       "cons.pmsf  0.981989        0.167806       1.049143       0.159946    0.120048   \n",
       "\n",
       "           CPR_depth  CPR_ratio  Eubacteria_height  Eubacteria_depth  \\\n",
       "tree                                                                   \n",
       "all.1k      1.113456   0.138071           0.069774          1.188847   \n",
       "all.ft      1.446355   0.164955                NaN               NaN   \n",
       "cons.g      0.731724   0.111426           0.038142          0.588887   \n",
       "cons.r      0.625998   0.114861           0.018443          0.525590   \n",
       "cons.pmsf   1.128478   0.106380           0.041744          0.807889   \n",
       "\n",
       "           Eubacteria_ratio  \n",
       "tree                         \n",
       "all.1k             0.058690  \n",
       "all.ft                  NaN  \n",
       "cons.g             0.064769  \n",
       "cons.r             0.035090  \n",
       "cons.pmsf          0.051671  "
      ]
     },
     "execution_count": 25,
     "metadata": {},
     "output_type": "execute_result"
    }
   ],
   "source": [
    "df = pd.DataFrame(data)\n",
    "df.columns = ['tree', 'radius'] + ['%s_%s' % (x, y) for x in clade_list\n",
    "              for y in ['height', 'depth', 'ratio']]\n",
    "df.set_index('tree', inplace=True)\n",
    "df.head()"
   ]
  },
  {
   "cell_type": "markdown",
   "metadata": {},
   "source": [
    "## A-B distances"
   ]
  },
  {
   "cell_type": "code",
   "execution_count": 26,
   "metadata": {},
   "outputs": [],
   "source": [
    "clades['Bacteria'] = clades['Eubacteria'].union(clades['CPR'])"
   ]
  },
  {
   "cell_type": "markdown",
   "metadata": {},
   "source": [
    "Tip-to-tip distances"
   ]
  },
  {
   "cell_type": "code",
   "execution_count": 27,
   "metadata": {},
   "outputs": [],
   "source": [
    "dms = {name: tree.tip_tip_distances() for name, tree in trees.items()}"
   ]
  },
  {
   "cell_type": "code",
   "execution_count": 28,
   "metadata": {},
   "outputs": [
    {
     "data": {
      "text/html": [
       "<div>\n",
       "<style scoped>\n",
       "    .dataframe tbody tr th:only-of-type {\n",
       "        vertical-align: middle;\n",
       "    }\n",
       "\n",
       "    .dataframe tbody tr th {\n",
       "        vertical-align: top;\n",
       "    }\n",
       "\n",
       "    .dataframe thead th {\n",
       "        text-align: right;\n",
       "    }\n",
       "</style>\n",
       "<table border=\"1\" class=\"dataframe\">\n",
       "  <thead>\n",
       "    <tr style=\"text-align: right;\">\n",
       "      <th></th>\n",
       "      <th>Archaea_n</th>\n",
       "      <th>Bacteria_n</th>\n",
       "      <th>Archaea_sum</th>\n",
       "      <th>Bacteria_sum</th>\n",
       "      <th>A-B_sum</th>\n",
       "      <th>Archaea_mean</th>\n",
       "      <th>Bacteria_mean</th>\n",
       "      <th>A-B_mean</th>\n",
       "      <th>A-B_ratio</th>\n",
       "    </tr>\n",
       "    <tr>\n",
       "      <th>tree</th>\n",
       "      <th></th>\n",
       "      <th></th>\n",
       "      <th></th>\n",
       "      <th></th>\n",
       "      <th></th>\n",
       "      <th></th>\n",
       "      <th></th>\n",
       "      <th></th>\n",
       "      <th></th>\n",
       "    </tr>\n",
       "  </thead>\n",
       "  <tbody>\n",
       "    <tr>\n",
       "      <th>all.1k</th>\n",
       "      <td>74</td>\n",
       "      <td>926</td>\n",
       "      <td>5014.241641</td>\n",
       "      <td>9.527379e+05</td>\n",
       "      <td>172545.805273</td>\n",
       "      <td>1.856439</td>\n",
       "      <td>2.224594</td>\n",
       "      <td>2.518035</td>\n",
       "      <td>1.535296</td>\n",
       "    </tr>\n",
       "    <tr>\n",
       "      <th>all.ft</th>\n",
       "      <td>74</td>\n",
       "      <td>926</td>\n",
       "      <td>6668.136751</td>\n",
       "      <td>1.271256e+06</td>\n",
       "      <td>224488.904535</td>\n",
       "      <td>2.468766</td>\n",
       "      <td>2.968318</td>\n",
       "      <td>3.276062</td>\n",
       "      <td>1.464583</td>\n",
       "    </tr>\n",
       "    <tr>\n",
       "      <th>cons.g</th>\n",
       "      <td>74</td>\n",
       "      <td>926</td>\n",
       "      <td>3162.296967</td>\n",
       "      <td>4.977385e+05</td>\n",
       "      <td>101044.460915</td>\n",
       "      <td>1.170787</td>\n",
       "      <td>1.162194</td>\n",
       "      <td>1.474585</td>\n",
       "      <td>1.598023</td>\n",
       "    </tr>\n",
       "    <tr>\n",
       "      <th>cons.r</th>\n",
       "      <td>74</td>\n",
       "      <td>926</td>\n",
       "      <td>2753.995592</td>\n",
       "      <td>4.332583e+05</td>\n",
       "      <td>88411.081814</td>\n",
       "      <td>1.019621</td>\n",
       "      <td>1.011636</td>\n",
       "      <td>1.290221</td>\n",
       "      <td>1.613857</td>\n",
       "    </tr>\n",
       "    <tr>\n",
       "      <th>cons.pmsf</th>\n",
       "      <td>74</td>\n",
       "      <td>926</td>\n",
       "      <td>4952.094619</td>\n",
       "      <td>7.109533e+05</td>\n",
       "      <td>150551.202280</td>\n",
       "      <td>1.833430</td>\n",
       "      <td>1.660039</td>\n",
       "      <td>2.197058</td>\n",
       "      <td>1.585990</td>\n",
       "    </tr>\n",
       "  </tbody>\n",
       "</table>\n",
       "</div>"
      ],
      "text/plain": [
       "           Archaea_n  Bacteria_n  Archaea_sum  Bacteria_sum        A-B_sum  \\\n",
       "tree                                                                         \n",
       "all.1k            74         926  5014.241641  9.527379e+05  172545.805273   \n",
       "all.ft            74         926  6668.136751  1.271256e+06  224488.904535   \n",
       "cons.g            74         926  3162.296967  4.977385e+05  101044.460915   \n",
       "cons.r            74         926  2753.995592  4.332583e+05   88411.081814   \n",
       "cons.pmsf         74         926  4952.094619  7.109533e+05  150551.202280   \n",
       "\n",
       "           Archaea_mean  Bacteria_mean  A-B_mean  A-B_ratio  \n",
       "tree                                                         \n",
       "all.1k         1.856439       2.224594  2.518035   1.535296  \n",
       "all.ft         2.468766       2.968318  3.276062   1.464583  \n",
       "cons.g         1.170787       1.162194  1.474585   1.598023  \n",
       "cons.r         1.019621       1.011636  1.290221   1.613857  \n",
       "cons.pmsf      1.833430       1.660039  2.197058   1.585990  "
      ]
     },
     "execution_count": 28,
     "metadata": {},
     "output_type": "execute_result"
    }
   ],
   "source": [
    "data = []\n",
    "for name, tree in trees.items():\n",
    "    dm = dms[name]\n",
    "    \n",
    "    all_n = dm.shape[0]\n",
    "    all_sum = dm.condensed_form().sum()\n",
    "\n",
    "    arc_dm = dm.filter(clades['Archaea'], strict=False)\n",
    "    arc_n = len(arc_dm.ids)\n",
    "    arc_m = arc_n * (arc_n - 1) / 2\n",
    "    arc_sum = arc_dm.condensed_form().sum()\n",
    "    arc_mean = arc_sum / arc_m\n",
    "\n",
    "    bac_dm = dm.filter(clades['Bacteria'], strict=False)\n",
    "    bac_n = len(bac_dm.ids)\n",
    "    bac_m = bac_n * (bac_n - 1) / 2\n",
    "    bac_sum = bac_dm.condensed_form().sum()\n",
    "    bac_mean = bac_sum / bac_m\n",
    "\n",
    "    ab_sum = all_sum - arc_sum - bac_sum\n",
    "    ab_mean = ab_sum / (all_n ** 2 - arc_n ** 2 - bac_n ** 2) * 2\n",
    "\n",
    "    ratio = ab_mean ** 2 / arc_mean / bac_mean\n",
    "\n",
    "    data.append([name, arc_n, bac_n, arc_sum, bac_sum, ab_sum,\n",
    "                 arc_mean, bac_mean, ab_mean, ratio])\n",
    "\n",
    "df_ = pd.DataFrame(data)\n",
    "df_.columns = ['tree', 'Archaea_n', 'Bacteria_n', 'Archaea_sum', 'Bacteria_sum', 'A-B_sum',\n",
    "               'Archaea_mean', 'Bacteria_mean', 'A-B_mean', 'A-B_ratio']\n",
    "df_.set_index('tree', inplace=True)\n",
    "df_.head()"
   ]
  },
  {
   "cell_type": "code",
   "execution_count": 29,
   "metadata": {},
   "outputs": [],
   "source": [
    "df = pd.concat([df, df_], axis=1)"
   ]
  },
  {
   "cell_type": "code",
   "execution_count": 30,
   "metadata": {},
   "outputs": [],
   "source": [
    "df.to_csv('output.tsv', sep='\\t')"
   ]
  },
  {
   "cell_type": "markdown",
   "metadata": {},
   "source": [
    "## Plotting"
   ]
  },
  {
   "cell_type": "markdown",
   "metadata": {},
   "source": [
    "A-B branch length"
   ]
  },
  {
   "cell_type": "code",
   "execution_count": 31,
   "metadata": {},
   "outputs": [],
   "source": [
    "labels = list(df.index)\n",
    "xticks = list(range(len(labels)))"
   ]
  },
  {
   "cell_type": "code",
   "execution_count": 32,
   "metadata": {},
   "outputs": [
    {
     "data": {
      "image/png": "[encoded data removed]",
      "text/plain": [
       "<Figure size 864x216 with 1 Axes>"
      ]
     },
     "metadata": {
      "needs_background": "light"
     },
     "output_type": "display_data"
    }
   ],
   "source": [
    "fig = plt.figure(figsize=(12, 3))\n",
    "data = df['Archaea_height'] / df['radius']\n",
    "plt.bar(xticks, data)\n",
    "plt.yscale('log')\n",
    "yticks = [0.1, 0.2, 0.4, 0.6, 0.8, 1.0]\n",
    "plt.yticks(yticks, yticks)\n",
    "plt.ylabel('Norm. A-B branch length')\n",
    "plt.xticks(xticks, labels, rotation=30, ha='right');"
   ]
  },
  {
   "cell_type": "code",
   "execution_count": 33,
   "metadata": {},
   "outputs": [],
   "source": [
    "fig.tight_layout()\n",
    "fig.savefig('ab.brlen.pdf', bbox_inches='tight')"
   ]
  },
  {
   "cell_type": "markdown",
   "metadata": {},
   "source": [
    "A-B distance"
   ]
  },
  {
   "cell_type": "code",
   "execution_count": 34,
   "metadata": {},
   "outputs": [
    {
     "data": {
      "image/png": "[encoded data removed]",
      "text/plain": [
       "<Figure size 864x216 with 1 Axes>"
      ]
     },
     "metadata": {
      "needs_background": "light"
     },
     "output_type": "display_data"
    }
   ],
   "source": [
    "fig = plt.figure(figsize=(12, 3))\n",
    "data = df['A-B_ratio']\n",
    "plt.bar(xticks, data)\n",
    "plt.ylabel('Relative A-B distance')\n",
    "plt.xticks(xticks, labels, rotation=30, ha='right');"
   ]
  },
  {
   "cell_type": "code",
   "execution_count": 35,
   "metadata": {},
   "outputs": [],
   "source": [
    "fig.tight_layout()\n",
    "fig.savefig('ab.dist.pdf', bbox_inches='tight')"
   ]
  },
  {
   "cell_type": "markdown",
   "metadata": {},
   "source": [
    "Depth and height"
   ]
  },
  {
   "cell_type": "code",
   "execution_count": 36,
   "metadata": {},
   "outputs": [],
   "source": [
    "df_ = df[df['Eubacteria_height'].notnull()].copy()\n",
    "df_ = df_[~df_.index.to_series().str.startswith('rpls')]\n",
    "df_ = df_[~df_.index.to_series().str.endswith('.r')]\n",
    "df_ = df_[~df_.index.to_series().str.endswith('.astral')]"
   ]
  },
  {
   "cell_type": "code",
   "execution_count": 37,
   "metadata": {},
   "outputs": [],
   "source": [
    "for x in ('depth', 'height'):\n",
    "    df_['%s_sum' % x] = sum(df_['%s_%s' % (y, x)] for y in ('Archaea', 'CPR', 'Eubacteria'))\n",
    "    for y in ('Archaea', 'CPR', 'Eubacteria'):\n",
    "        df_['%s_%s_norm' % (y, x)] = df_['%s_%s' % (y, x)] / df_['%s_sum' % x]"
   ]
  },
  {
   "cell_type": "code",
   "execution_count": 38,
   "metadata": {},
   "outputs": [
    {
     "data": {
      "image/png": "[encoded data removed]",
      "text/plain": [
       "<Figure size 432x216 with 1 Axes>"
      ]
     },
     "metadata": {
      "needs_background": "light"
     },
     "output_type": "display_data"
    }
   ],
   "source": [
    "labels = list(df_.index)\n",
    "xticks = range(len(labels))\n",
    "fig = plt.figure(figsize=(6, 3))\n",
    "bottom = [0] * df_.shape[0]\n",
    "for x in ('Archaea', 'CPR', 'Eubacteria'):\n",
    "    plt.bar(xticks, df_['%s_depth_norm' % x], bottom=bottom)\n",
    "    for i in range(len(bottom)):\n",
    "        bottom[i] += df_['%s_depth_norm' % x][i]\n",
    "plt.xticks(xticks, labels, rotation=30, ha='right')\n",
    "plt.ylabel('Median depth')\n",
    "plt.legend(labels=['Archaea', 'CPR', 'Eubacteria']);"
   ]
  },
  {
   "cell_type": "code",
   "execution_count": 39,
   "metadata": {},
   "outputs": [],
   "source": [
    "fig.tight_layout()\n",
    "fig.savefig('depth.pdf', bbox_inches='tight')"
   ]
  },
  {
   "cell_type": "code",
   "execution_count": 40,
   "metadata": {},
   "outputs": [
    {
     "data": {
      "image/png": "[encoded data removed]",
      "text/plain": [
       "<Figure size 432x216 with 1 Axes>"
      ]
     },
     "metadata": {
      "needs_background": "light"
     },
     "output_type": "display_data"
    }
   ],
   "source": [
    "labels = list(df_.index)\n",
    "xticks = range(len(labels))\n",
    "fig = plt.figure(figsize=(6, 3))\n",
    "bottom = [0] * df_.shape[0]\n",
    "for x in ('Archaea', 'CPR', 'Eubacteria'):\n",
    "    plt.bar(xticks, df_['%s_height_norm' % x], bottom=bottom)\n",
    "    for i in range(len(bottom)):\n",
    "        bottom[i] += df_['%s_height_norm' % x][i]\n",
    "plt.ylabel('Height')\n",
    "plt.xticks(xticks, labels, rotation=30, ha='right');"
   ]
  },
  {
   "cell_type": "code",
   "execution_count": 41,
   "metadata": {},
   "outputs": [],
   "source": [
    "fig.tight_layout()\n",
    "fig.savefig('height.pdf', bbox_inches='tight')"
   ]
  },
  {
   "cell_type": "markdown",
   "metadata": {},
   "source": [
    "## Depth distribution"
   ]
  },
  {
   "cell_type": "code",
   "execution_count": 42,
   "metadata": {},
   "outputs": [
    {
     "data": {
      "text/html": [
       "<div>\n",
       "<style scoped>\n",
       "    .dataframe tbody tr th:only-of-type {\n",
       "        vertical-align: middle;\n",
       "    }\n",
       "\n",
       "    .dataframe tbody tr th {\n",
       "        vertical-align: top;\n",
       "    }\n",
       "\n",
       "    .dataframe thead th {\n",
       "        text-align: right;\n",
       "    }\n",
       "</style>\n",
       "<table border=\"1\" class=\"dataframe\">\n",
       "  <thead>\n",
       "    <tr style=\"text-align: right;\">\n",
       "      <th></th>\n",
       "      <th>tree</th>\n",
       "      <th>site</th>\n",
       "      <th>model</th>\n",
       "      <th>clade</th>\n",
       "      <th>depth</th>\n",
       "    </tr>\n",
       "  </thead>\n",
       "  <tbody>\n",
       "    <tr>\n",
       "      <th>0</th>\n",
       "      <td>cons.g</td>\n",
       "      <td>cons</td>\n",
       "      <td>g</td>\n",
       "      <td>Archaea</td>\n",
       "      <td>0.584646</td>\n",
       "    </tr>\n",
       "    <tr>\n",
       "      <th>1</th>\n",
       "      <td>cons.g</td>\n",
       "      <td>cons</td>\n",
       "      <td>g</td>\n",
       "      <td>Archaea</td>\n",
       "      <td>0.545367</td>\n",
       "    </tr>\n",
       "    <tr>\n",
       "      <th>2</th>\n",
       "      <td>cons.g</td>\n",
       "      <td>cons</td>\n",
       "      <td>g</td>\n",
       "      <td>Archaea</td>\n",
       "      <td>0.559824</td>\n",
       "    </tr>\n",
       "    <tr>\n",
       "      <th>3</th>\n",
       "      <td>cons.g</td>\n",
       "      <td>cons</td>\n",
       "      <td>g</td>\n",
       "      <td>Archaea</td>\n",
       "      <td>0.529409</td>\n",
       "    </tr>\n",
       "    <tr>\n",
       "      <th>4</th>\n",
       "      <td>cons.g</td>\n",
       "      <td>cons</td>\n",
       "      <td>g</td>\n",
       "      <td>Archaea</td>\n",
       "      <td>0.588778</td>\n",
       "    </tr>\n",
       "  </tbody>\n",
       "</table>\n",
       "</div>"
      ],
      "text/plain": [
       "     tree  site model    clade     depth\n",
       "0  cons.g  cons     g  Archaea  0.584646\n",
       "1  cons.g  cons     g  Archaea  0.545367\n",
       "2  cons.g  cons     g  Archaea  0.559824\n",
       "3  cons.g  cons     g  Archaea  0.529409\n",
       "4  cons.g  cons     g  Archaea  0.588778"
      ]
     },
     "execution_count": 42,
     "metadata": {},
     "output_type": "execute_result"
    }
   ],
   "source": [
    "data = []\n",
    "for site in ('cons', 'rand'):\n",
    "    for model in ('g', 'pmsf'):\n",
    "        for clade in ('Archaea', 'CPR', 'Eubacteria'):\n",
    "            name = '%s.%s' % (site, model)\n",
    "            tree = trees[name]\n",
    "            node = tree.lca(tree.subset().intersection(clades[clade]))\n",
    "            for depth in node.depths:\n",
    "                data.append([name, site, model, clade, depth])\n",
    "dfd = pd.DataFrame(data)\n",
    "dfd.columns = ['tree', 'site', 'model', 'clade', 'depth']\n",
    "dfd.head()"
   ]
  },
  {
   "cell_type": "code",
   "execution_count": 43,
   "metadata": {},
   "outputs": [
    {
     "data": {
      "image/png": "[encoded data removed]",
      "text/plain": [
       "<Figure size 216x360 with 1 Axes>"
      ]
     },
     "metadata": {
      "needs_background": "light"
     },
     "output_type": "display_data"
    },
    {
     "data": {
      "image/png": "[encoded data removed]",
      "text/plain": [
       "<Figure size 216x360 with 1 Axes>"
      ]
     },
     "metadata": {
      "needs_background": "light"
     },
     "output_type": "display_data"
    }
   ],
   "source": [
    "for site in ('cons', 'rand'):\n",
    "    fig, ax = plt.subplots(figsize=(3, 5))\n",
    "    sns.violinplot(x='clade', y='depth', hue='model', linewidth=1,\n",
    "                   data=dfd.query('site == \"%s\"' % site), ax=ax)\n",
    "    ax.set_title(site)\n",
    "    ax.set_ylim(bottom=0)\n",
    "    ax.set_xlabel('')\n",
    "    ax.set_ylabel('')\n",
    "    for i, clade in enumerate(('Archaea', 'CPR', 'Eubacteria')):\n",
    "        h = df['%s_height' % clade]['%s.g' % site]\n",
    "        ax.plot([i - 0.35, i - 0.05], [h, h], color=sns.color_palette()[0])\n",
    "        h = df['%s_height' % clade]['%s.pmsf' % site]\n",
    "        ax.plot([i + 0.05, i + 0.35], [h, h], color=sns.color_palette()[1])\n",
    "    fig.tight_layout()\n",
    "    fig.savefig('%s.violin.pdf' % site, bbox_inches='tight')"
   ]
  },
  {
   "cell_type": "code",
   "execution_count": 44,
   "metadata": {},
   "outputs": [],
   "source": [
    "dfd['radius'] = dfd['tree'].map(radia)\n",
    "dfd['depth_norm'] = dfd['depth'] / dfd['radius']"
   ]
  },
  {
   "cell_type": "code",
   "execution_count": 45,
   "metadata": {},
   "outputs": [
    {
     "data": {
      "image/png": "[encoded data removed]",
      "text/plain": [
       "<Figure size 216x360 with 1 Axes>"
      ]
     },
     "metadata": {
      "needs_background": "light"
     },
     "output_type": "display_data"
    },
    {
     "data": {
      "image/png": "[encoded data removed]",
      "text/plain": [
       "<Figure size 216x360 with 1 Axes>"
      ]
     },
     "metadata": {
      "needs_background": "light"
     },
     "output_type": "display_data"
    }
   ],
   "source": [
    "for site in ('cons', 'rand'):\n",
    "    fig, ax = plt.subplots(figsize=(3, 5))\n",
    "    sns.violinplot(x='clade', y='depth_norm', hue='model', split=True, linewidth=1,\n",
    "                   data=dfd.query('site == \"%s\"' % site), ax=ax)\n",
    "    ax.set_title(site)\n",
    "    ax.set_ylim(bottom=0)\n",
    "    ax.set_xlabel('')\n",
    "    ax.set_ylabel('')\n",
    "    for i, clade in enumerate(('Archaea', 'CPR', 'Eubacteria')):\n",
    "        h = df['%s_height' % clade]['%s.g' % site] / radia['%s.g' % site]\n",
    "        ax.plot([i - 0.35, i - 0.05], [h, h], color=sns.color_palette()[0])\n",
    "        h = df['%s_height' % clade]['%s.pmsf' % site] / radia['%s.pmsf' % site]\n",
    "        ax.plot([i + 0.05, i + 0.35], [h, h], color=sns.color_palette()[1])\n",
    "    fig.tight_layout()\n",
    "    fig.savefig('%s.norm.violin.pdf' % site, bbox_inches='tight')"
   ]
  },
  {
   "cell_type": "code",
   "execution_count": null,
   "metadata": {},
   "outputs": [],
   "source": []
  }
 ],
 "metadata": {
  "kernelspec": {
   "display_name": "Python 3",
   "language": "python",
   "name": "python3"
  },
  "language_info": {
   "codemirror_mode": {
    "name": "ipython",
    "version": 3
   },
   "file_extension": ".py",
   "mimetype": "text/x-python",
   "name": "python",
   "nbconvert_exporter": "python",
   "pygments_lexer": "ipython3",
   "version": "3.7.2"
  }
 },
 "nbformat": 4,
 "nbformat_minor": 2
}
