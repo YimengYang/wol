{
 "cells": [
  {
   "cell_type": "markdown",
   "metadata": {},
   "source": [
    "# Comparing tree topologies by depth"
   ]
  },
  {
   "cell_type": "markdown",
   "metadata": {},
   "source": [
    "## Summary"
   ]
  },
  {
   "cell_type": "markdown",
   "metadata": {},
   "source": [
    "Compare the topologies of two trees with consideration of phylogenetic depth.\n",
    "\n",
    "This involves the measurement of \"phylogenetic depth\" (jargons: **deep** - close to root; **shallow** - close to tips). Two methods can be used: with, or without consideration of branch lengths.\n",
    "\n",
    "The functions implemented here have been further optimized and added to `tree.py`, as `calc_split_metrics` and `calc_length_metrics`."
   ]
  },
  {
   "cell_type": "markdown",
   "metadata": {},
   "source": [
    "## Dependencies"
   ]
  },
  {
   "cell_type": "code",
   "execution_count": 1,
   "metadata": {
    "collapsed": true
   },
   "outputs": [],
   "source": [
    "from os import listdir\n",
    "from os.path import join"
   ]
  },
  {
   "cell_type": "code",
   "execution_count": 2,
   "metadata": {},
   "outputs": [],
   "source": [
    "from math import exp\n",
    "from statistics import mean, median"
   ]
  },
  {
   "cell_type": "code",
   "execution_count": 3,
   "metadata": {},
   "outputs": [],
   "source": [
    "import numpy as np\n",
    "import scipy as sp\n",
    "import pandas as pd\n",
    "import seaborn as sns\n",
    "import matplotlib as mpl\n",
    "import matplotlib.pyplot as plt"
   ]
  },
  {
   "cell_type": "code",
   "execution_count": 4,
   "metadata": {
    "collapsed": true
   },
   "outputs": [],
   "source": [
    "from skbio.tree import TreeNode"
   ]
  },
  {
   "cell_type": "code",
   "execution_count": 5,
   "metadata": {
    "collapsed": true
   },
   "outputs": [],
   "source": [
    "%matplotlib inline"
   ]
  },
  {
   "cell_type": "code",
   "execution_count": 6,
   "metadata": {
    "collapsed": true
   },
   "outputs": [],
   "source": [
    "mpl.rcParams['figure.figsize'] = (15, 4)"
   ]
  },
  {
   "cell_type": "markdown",
   "metadata": {},
   "source": [
    "## Input trees"
   ]
  },
  {
   "cell_type": "code",
   "execution_count": 7,
   "metadata": {},
   "outputs": [
    {
     "data": {
      "text/plain": [
       "dict_keys(['concat.rand.b50', 'astral.rand', 'concat.rand', 'concat.cons.b50', 'astral.cons', 'astral.cons.e5p50', 'astral', 'astral.rand.e5p50', 'concat.cons', 'astral.e5p50'])"
      ]
     },
     "execution_count": 7,
     "metadata": {},
     "output_type": "execute_result"
    }
   ],
   "source": [
    "trees = {}\n",
    "trees_dir = 'trees'\n",
    "for fname in listdir(trees_dir):\n",
    "    if fname.endswith('.nwk'):\n",
    "        trees[fname.rsplit('.', 1)[0]] = TreeNode.read(join(trees_dir, fname))\n",
    "trees.keys()"
   ]
  },
  {
   "cell_type": "markdown",
   "metadata": {},
   "source": [
    "## Metrics"
   ]
  },
  {
   "cell_type": "markdown",
   "metadata": {},
   "source": [
    "Compute the following metrics for internal nodes:\n",
    " - `n`: number of descendants\n",
    " - `taxa`: list of names of the descendants\n",
    " - `postlevels`: maximum number of splits from the tips\n",
    " - `prelevels`: number of splits from the root\n",
    " - `split_depth`: total number of splits from the tips (see [Puigbò et al., 2009](https://jbiol.biomedcentral.com/articles/10.1186/jbiol159))\n",
    " - `depths`: list of depths (sum of branch lengths from a tip to the node)\n",
    " - `height`: sum of branch lengths from the root to the node"
   ]
  },
  {
   "cell_type": "code",
   "execution_count": 8,
   "metadata": {},
   "outputs": [],
   "source": [
    "for name in trees:\n",
    "    for node in trees[name].postorder(include_self=True):\n",
    "        if node.length is None:\n",
    "            node.length = 0.0\n",
    "        if node.is_tip():\n",
    "            node.n = 1\n",
    "            node.taxa = [node.name]\n",
    "            node.postlevels = 1\n",
    "            node.split_depth = 0\n",
    "            node.depths = [0.0]\n",
    "        else:\n",
    "            node.n = sum(x.n for x in node.children)\n",
    "            node.taxa = sorted(set().union(*[x.taxa for x in node.children]))\n",
    "            node.postlevels = max(x.postlevels for x in node.children) + 1\n",
    "            node.split_depth = sum(x.split_depth for x in node.children) + 1\n",
    "            node.depths = [y + x.length for x in node.children for y in x.depths]\n",
    "    for node in trees[name].preorder(include_self=True):\n",
    "        if node.is_root():\n",
    "            node.prelevels = 1\n",
    "            node.height = 0.0\n",
    "        else:\n",
    "            node.prelevels = node.parent.prelevels + 1\n",
    "            node.height = node.parent.height + node.length"
   ]
  },
  {
   "cell_type": "markdown",
   "metadata": {},
   "source": [
    "Extra metrics for the depths (mean, median, max, min, etc.)"
   ]
  },
  {
   "cell_type": "code",
   "execution_count": 9,
   "metadata": {
    "collapsed": true
   },
   "outputs": [],
   "source": [
    "for name in trees:\n",
    "    for node in trees[name].non_tips(include_self=True):\n",
    "        node.max_depth = max(node.depths)\n",
    "        node.min_depth = min(node.depths)\n",
    "        node.mean_depth = mean(node.depths)\n",
    "        node.median_depth = median(node.depths)"
   ]
  },
  {
   "cell_type": "markdown",
   "metadata": {},
   "source": [
    "We need these metrics:"
   ]
  },
  {
   "cell_type": "code",
   "execution_count": 10,
   "metadata": {
    "collapsed": true
   },
   "outputs": [],
   "source": [
    "attrs = ['n', 'prelevels', 'postlevels', 'split_depth', 'height', 'mean_depth', 'median_depth']"
   ]
  },
  {
   "cell_type": "markdown",
   "metadata": {},
   "source": [
    "Count the overlapping nodes (those with the same set of descendants) between two trees."
   ]
  },
  {
   "cell_type": "code",
   "execution_count": 11,
   "metadata": {
    "collapsed": true
   },
   "outputs": [],
   "source": [
    "def count_overlapping_nodes(tree1, tree2):\n",
    "    taxas = [x.taxa for x in tree2.non_tips(include_self=True)]\n",
    "    data = []\n",
    "    for node in tree1.preorder(include_self=True):\n",
    "        if node.is_tip():\n",
    "            continue\n",
    "        is_match = False\n",
    "        for taxa in taxas:\n",
    "            if node.taxa == taxa:\n",
    "                is_match = True\n",
    "                break\n",
    "        row = [node.name, is_match]\n",
    "        for attr in attrs:\n",
    "            row.append(getattr(node, attr))\n",
    "        data.append(row)\n",
    "    return pd.DataFrame(data, columns=['id', 'is_match'] + attrs)"
   ]
  },
  {
   "cell_type": "code",
   "execution_count": 12,
   "metadata": {},
   "outputs": [
    {
     "data": {
      "text/html": [
       "<div>\n",
       "<style scoped>\n",
       "    .dataframe tbody tr th:only-of-type {\n",
       "        vertical-align: middle;\n",
       "    }\n",
       "\n",
       "    .dataframe tbody tr th {\n",
       "        vertical-align: top;\n",
       "    }\n",
       "\n",
       "    .dataframe thead th {\n",
       "        text-align: right;\n",
       "    }\n",
       "</style>\n",
       "<table border=\"1\" class=\"dataframe\">\n",
       "  <thead>\n",
       "    <tr style=\"text-align: right;\">\n",
       "      <th></th>\n",
       "      <th>id</th>\n",
       "      <th>is_match</th>\n",
       "      <th>n</th>\n",
       "      <th>prelevels</th>\n",
       "      <th>postlevels</th>\n",
       "      <th>split_depth</th>\n",
       "      <th>height</th>\n",
       "      <th>mean_depth</th>\n",
       "      <th>median_depth</th>\n",
       "    </tr>\n",
       "  </thead>\n",
       "  <tbody>\n",
       "    <tr>\n",
       "      <th>0</th>\n",
       "      <td>N1</td>\n",
       "      <td>True</td>\n",
       "      <td>10575</td>\n",
       "      <td>1</td>\n",
       "      <td>67</td>\n",
       "      <td>10574</td>\n",
       "      <td>0.000000</td>\n",
       "      <td>0.973419</td>\n",
       "      <td>0.971197</td>\n",
       "    </tr>\n",
       "    <tr>\n",
       "      <th>1</th>\n",
       "      <td>N2</td>\n",
       "      <td>True</td>\n",
       "      <td>669</td>\n",
       "      <td>2</td>\n",
       "      <td>35</td>\n",
       "      <td>668</td>\n",
       "      <td>0.061071</td>\n",
       "      <td>0.923035</td>\n",
       "      <td>0.900001</td>\n",
       "    </tr>\n",
       "    <tr>\n",
       "      <th>2</th>\n",
       "      <td>N4</td>\n",
       "      <td>True</td>\n",
       "      <td>4</td>\n",
       "      <td>3</td>\n",
       "      <td>3</td>\n",
       "      <td>3</td>\n",
       "      <td>0.185774</td>\n",
       "      <td>0.582115</td>\n",
       "      <td>0.581432</td>\n",
       "    </tr>\n",
       "    <tr>\n",
       "      <th>3</th>\n",
       "      <td>N8</td>\n",
       "      <td>True</td>\n",
       "      <td>2</td>\n",
       "      <td>4</td>\n",
       "      <td>2</td>\n",
       "      <td>1</td>\n",
       "      <td>0.437867</td>\n",
       "      <td>0.330706</td>\n",
       "      <td>0.330706</td>\n",
       "    </tr>\n",
       "    <tr>\n",
       "      <th>4</th>\n",
       "      <td>N9</td>\n",
       "      <td>True</td>\n",
       "      <td>2</td>\n",
       "      <td>4</td>\n",
       "      <td>2</td>\n",
       "      <td>1</td>\n",
       "      <td>0.304846</td>\n",
       "      <td>0.462360</td>\n",
       "      <td>0.462360</td>\n",
       "    </tr>\n",
       "  </tbody>\n",
       "</table>\n",
       "</div>"
      ],
      "text/plain": [
       "   id  is_match      n  prelevels  postlevels  split_depth    height  \\\n",
       "0  N1      True  10575          1          67        10574  0.000000   \n",
       "1  N2      True    669          2          35          668  0.061071   \n",
       "2  N4      True      4          3           3            3  0.185774   \n",
       "3  N8      True      2          4           2            1  0.437867   \n",
       "4  N9      True      2          4           2            1  0.304846   \n",
       "\n",
       "   mean_depth  median_depth  \n",
       "0    0.973419      0.971197  \n",
       "1    0.923035      0.900001  \n",
       "2    0.582115      0.581432  \n",
       "3    0.330706      0.330706  \n",
       "4    0.462360      0.462360  "
      ]
     },
     "execution_count": 12,
     "metadata": {},
     "output_type": "execute_result"
    }
   ],
   "source": [
    "df = count_overlapping_nodes(trees['astral.cons'], trees['concat.cons'])\n",
    "df.head()"
   ]
  },
  {
   "cell_type": "markdown",
   "metadata": {},
   "source": [
    "### Plot the correlation"
   ]
  },
  {
   "cell_type": "code",
   "execution_count": 13,
   "metadata": {},
   "outputs": [
    {
     "data": {
      "text/plain": [
       "count    10574.000000\n",
       "mean        28.860318\n",
       "std        252.249727\n",
       "min          1.000000\n",
       "25%          1.000000\n",
       "50%          3.000000\n",
       "75%          8.000000\n",
       "max      10574.000000\n",
       "Name: split_depth, dtype: float64"
      ]
     },
     "execution_count": 13,
     "metadata": {},
     "output_type": "execute_result"
    }
   ],
   "source": [
    "attr = 'split_depth'\n",
    "df[attr].describe()"
   ]
  },
  {
   "cell_type": "code",
   "execution_count": 14,
   "metadata": {},
   "outputs": [
    {
     "data": {
      "image/png": "[encoded data removed]",
      "text/plain": [
       "<matplotlib.figure.Figure at 0x1346e8518>"
      ]
     },
     "metadata": {},
     "output_type": "display_data"
    }
   ],
   "source": [
    "df.hist(attr, log=True);"
   ]
  },
  {
   "cell_type": "markdown",
   "metadata": {},
   "source": [
    "#### Plan A: Cut to even numbers of nodes"
   ]
  },
  {
   "cell_type": "markdown",
   "metadata": {},
   "source": [
    "Note: May not work when there are many identical small integers."
   ]
  },
  {
   "cell_type": "code",
   "execution_count": 15,
   "metadata": {},
   "outputs": [
    {
     "data": {
      "text/plain": [
       "528"
      ]
     },
     "execution_count": 15,
     "metadata": {},
     "output_type": "execute_result"
    }
   ],
   "source": [
    "bin_num = 20\n",
    "bin_size = int(df.shape[0] / bin_num)\n",
    "bin_size"
   ]
  },
  {
   "cell_type": "code",
   "execution_count": 16,
   "metadata": {},
   "outputs": [],
   "source": [
    "bound, matches = 0, []\n",
    "data = []\n",
    "for i, (is_match, val) in enumerate(df[['is_match', attr]].sort_values(attr).itertuples(False)):\n",
    "    matches.append(is_match)\n",
    "    if (i + 1) % bin_size == 0:\n",
    "        data.append([bound, matches.count(True) / len(matches)])\n",
    "        bound, matches = val, []"
   ]
  },
  {
   "cell_type": "code",
   "execution_count": 17,
   "metadata": {},
   "outputs": [
    {
     "data": {
      "image/png": "[encoded data removed]",
      "text/plain": [
       "<matplotlib.figure.Figure at 0x137b18f98>"
      ]
     },
     "metadata": {},
     "output_type": "display_data"
    }
   ],
   "source": [
    "bounds = [x[0] for x in data]\n",
    "values = [x[1] for x in data]\n",
    "plt.plot(values)\n",
    "plt.xticks(range(len(data)), bounds)\n",
    "plt.xlabel(attr)\n",
    "plt.ylabel('consistency');"
   ]
  },
  {
   "cell_type": "markdown",
   "metadata": {},
   "source": [
    "#### Plan B: Cut to designated value ranges"
   ]
  },
  {
   "cell_type": "markdown",
   "metadata": {},
   "source": [
    "The binning scheme has to be manually determined."
   ]
  },
  {
   "cell_type": "code",
   "execution_count": 18,
   "metadata": {
    "collapsed": true
   },
   "outputs": [],
   "source": [
    "attr = 'split_depth'"
   ]
  },
  {
   "cell_type": "code",
   "execution_count": 19,
   "metadata": {},
   "outputs": [],
   "source": [
    "%%script false\n",
    "bounds = sorted(set(int(exp(x / 10)) for x in list(range(80))))\n",
    "print('Lower bounds: %s.' % bounds)\n",
    "print('Number of bins: %d.' % (len(bounds) - 1))"
   ]
  },
  {
   "cell_type": "code",
   "execution_count": 20,
   "metadata": {},
   "outputs": [],
   "source": [
    "%%script false\n",
    "bounds = [0] + sorted(set(int(exp(x / 5)) for x in list(range(40)))) + [df[attr].max()]\n",
    "print('Lower bounds: %s.' % bounds)\n",
    "print('Number of bins: %d.' % (len(bounds) - 1))"
   ]
  },
  {
   "cell_type": "code",
   "execution_count": 21,
   "metadata": {},
   "outputs": [],
   "source": [
    "%%script false\n",
    "bounds = [0] + sorted(set(int(exp(x / 4)) for x in list(range(30))))\n",
    "print('Lower bounds: %s.' % bounds)\n",
    "print('Number of bins: %d.' % (len(bounds) - 1))"
   ]
  },
  {
   "cell_type": "code",
   "execution_count": 22,
   "metadata": {},
   "outputs": [
    {
     "name": "stdout",
     "output_type": "stream",
     "text": [
      "Lower bounds: [0, 1, 2, 3, 4, 6, 7, 9, 11, 13, 16, 20, 24, 29, 36, 44, 54, 66, 81, 99, 121, 148, 181, 221, 270, 330, 403, 492, 601, 735, 897, 1096, 1339, 2440, 10574].\n",
      "Number of bins: 34.\n"
     ]
    }
   ],
   "source": [
    "# the chosen scheme\n",
    "bounds = [0] + sorted(set(int(exp(x / 5)) for x in list(range(40))))[:-3] + [2440] + [df[attr].max()]\n",
    "print('Lower bounds: %s.' % bounds)\n",
    "print('Number of bins: %d.' % (len(bounds) - 1))"
   ]
  },
  {
   "cell_type": "markdown",
   "metadata": {},
   "source": [
    "Group nodes by bins"
   ]
  },
  {
   "cell_type": "code",
   "execution_count": 23,
   "metadata": {},
   "outputs": [
    {
     "data": {
      "text/html": [
       "<div>\n",
       "<style scoped>\n",
       "    .dataframe tbody tr th:only-of-type {\n",
       "        vertical-align: middle;\n",
       "    }\n",
       "\n",
       "    .dataframe tbody tr th {\n",
       "        vertical-align: top;\n",
       "    }\n",
       "\n",
       "    .dataframe thead th {\n",
       "        text-align: right;\n",
       "    }\n",
       "</style>\n",
       "<table border=\"1\" class=\"dataframe\">\n",
       "  <thead>\n",
       "    <tr style=\"text-align: right;\">\n",
       "      <th></th>\n",
       "      <th>size</th>\n",
       "      <th>matches</th>\n",
       "      <th>consistency</th>\n",
       "    </tr>\n",
       "    <tr>\n",
       "      <th>split_depth</th>\n",
       "      <th></th>\n",
       "      <th></th>\n",
       "      <th></th>\n",
       "    </tr>\n",
       "  </thead>\n",
       "  <tbody>\n",
       "    <tr>\n",
       "      <th>(0, 1]</th>\n",
       "      <td>3119</td>\n",
       "      <td>2442</td>\n",
       "      <td>78.294325</td>\n",
       "    </tr>\n",
       "    <tr>\n",
       "      <th>(1, 2]</th>\n",
       "      <td>1643</td>\n",
       "      <td>1192</td>\n",
       "      <td>72.550213</td>\n",
       "    </tr>\n",
       "    <tr>\n",
       "      <th>(2, 3]</th>\n",
       "      <td>1031</td>\n",
       "      <td>697</td>\n",
       "      <td>67.604268</td>\n",
       "    </tr>\n",
       "    <tr>\n",
       "      <th>(3, 4]</th>\n",
       "      <td>704</td>\n",
       "      <td>470</td>\n",
       "      <td>66.761364</td>\n",
       "    </tr>\n",
       "    <tr>\n",
       "      <th>(4, 6]</th>\n",
       "      <td>918</td>\n",
       "      <td>609</td>\n",
       "      <td>66.339869</td>\n",
       "    </tr>\n",
       "  </tbody>\n",
       "</table>\n",
       "</div>"
      ],
      "text/plain": [
       "             size  matches  consistency\n",
       "split_depth                            \n",
       "(0, 1]       3119     2442    78.294325\n",
       "(1, 2]       1643     1192    72.550213\n",
       "(2, 3]       1031      697    67.604268\n",
       "(3, 4]        704      470    66.761364\n",
       "(4, 6]        918      609    66.339869"
      ]
     },
     "execution_count": 23,
     "metadata": {},
     "output_type": "execute_result"
    }
   ],
   "source": [
    "gb = df['is_match'].groupby(pd.cut(df[attr], bins=bounds))\n",
    "dfx = pd.concat([gb.size(), gb.sum().fillna(0).astype(int)], axis=1)\n",
    "dfx.columns = ['size', 'matches']\n",
    "dfx['consistency'] = (dfx['matches'] / dfx['size'] * 100).fillna(0)\n",
    "dfx.head()"
   ]
  },
  {
   "cell_type": "markdown",
   "metadata": {},
   "source": [
    "Check if there is any bin with n < 5. They were manually merged to the next bin."
   ]
  },
  {
   "cell_type": "code",
   "execution_count": 24,
   "metadata": {},
   "outputs": [],
   "source": [
    "for row in dfx.itertuples():\n",
    "    if row.size < 5:\n",
    "        print(row.Index)"
   ]
  },
  {
   "cell_type": "markdown",
   "metadata": {},
   "source": [
    "Plot consistency (%) versus the attribute."
   ]
  },
  {
   "cell_type": "code",
   "execution_count": 25,
   "metadata": {},
   "outputs": [
    {
     "data": {
      "image/png": "[encoded data removed]",
      "text/plain": [
       "<matplotlib.figure.Figure at 0x138a71b00>"
      ]
     },
     "metadata": {},
     "output_type": "display_data"
    }
   ],
   "source": [
    "plt.plot(dfx['consistency'].tolist())\n",
    "plt.xticks(range(dfx.shape[0]), [x + 1 for x in bounds])\n",
    "plt.xlabel(attr)\n",
    "plt.ylabel('consistency');"
   ]
  },
  {
   "cell_type": "markdown",
   "metadata": {},
   "source": [
    "Overlay the other tree"
   ]
  },
  {
   "cell_type": "code",
   "execution_count": 27,
   "metadata": {},
   "outputs": [
    {
     "data": {
      "text/html": [
       "<div>\n",
       "<style scoped>\n",
       "    .dataframe tbody tr th:only-of-type {\n",
       "        vertical-align: middle;\n",
       "    }\n",
       "\n",
       "    .dataframe tbody tr th {\n",
       "        vertical-align: top;\n",
       "    }\n",
       "\n",
       "    .dataframe thead th {\n",
       "        text-align: right;\n",
       "    }\n",
       "</style>\n",
       "<table border=\"1\" class=\"dataframe\">\n",
       "  <thead>\n",
       "    <tr style=\"text-align: right;\">\n",
       "      <th></th>\n",
       "      <th>size</th>\n",
       "      <th>matches</th>\n",
       "      <th>consistency</th>\n",
       "    </tr>\n",
       "    <tr>\n",
       "      <th>split_depth</th>\n",
       "      <th></th>\n",
       "      <th></th>\n",
       "      <th></th>\n",
       "    </tr>\n",
       "  </thead>\n",
       "  <tbody>\n",
       "    <tr>\n",
       "      <th>(0, 1]</th>\n",
       "      <td>3119</td>\n",
       "      <td>2545</td>\n",
       "      <td>81.596666</td>\n",
       "    </tr>\n",
       "    <tr>\n",
       "      <th>(1, 2]</th>\n",
       "      <td>1643</td>\n",
       "      <td>1268</td>\n",
       "      <td>77.175898</td>\n",
       "    </tr>\n",
       "    <tr>\n",
       "      <th>(2, 3]</th>\n",
       "      <td>1031</td>\n",
       "      <td>782</td>\n",
       "      <td>75.848691</td>\n",
       "    </tr>\n",
       "    <tr>\n",
       "      <th>(3, 4]</th>\n",
       "      <td>704</td>\n",
       "      <td>508</td>\n",
       "      <td>72.159091</td>\n",
       "    </tr>\n",
       "    <tr>\n",
       "      <th>(4, 6]</th>\n",
       "      <td>918</td>\n",
       "      <td>653</td>\n",
       "      <td>71.132898</td>\n",
       "    </tr>\n",
       "  </tbody>\n",
       "</table>\n",
       "</div>"
      ],
      "text/plain": [
       "             size  matches  consistency\n",
       "split_depth                            \n",
       "(0, 1]       3119     2545    81.596666\n",
       "(1, 2]       1643     1268    77.175898\n",
       "(2, 3]       1031      782    75.848691\n",
       "(3, 4]        704      508    72.159091\n",
       "(4, 6]        918      653    71.132898"
      ]
     },
     "execution_count": 27,
     "metadata": {},
     "output_type": "execute_result"
    }
   ],
   "source": [
    "df2 = count_overlapping_nodes(trees['astral.rand'], trees['concat.rand'])\n",
    "gb2 = df2['is_match'].groupby(pd.cut(df2[attr], bins=bounds))\n",
    "dfx2 = pd.concat([gb2.size(), gb2.sum().fillna(0).astype(int)], axis=1)\n",
    "dfx2.columns = ['size', 'matches']\n",
    "dfx2['consistency'] = (dfx2['matches'] / dfx2['size'] * 100).fillna(0)\n",
    "dfx2.head()"
   ]
  },
  {
   "cell_type": "code",
   "execution_count": 32,
   "metadata": {},
   "outputs": [
    {
     "data": {
      "image/png": "[encoded data removed]",
      "text/plain": [
       "<matplotlib.figure.Figure at 0x1376fbcc0>"
      ]
     },
     "metadata": {},
     "output_type": "display_data"
    }
   ],
   "source": [
    "fig = plt.figure()\n",
    "plt.plot(dfx['consistency'].tolist())\n",
    "plt.plot(dfx2['consistency'].tolist())\n",
    "plt.xticks(range(dfx.shape[0]), [x + 1 for x in bounds])\n",
    "plt.xlabel('%s (lower bound)' % attr)\n",
    "plt.ylabel('consistency (%)')\n",
    "plt.legend(['conserved', 'random'], loc='upper right');"
   ]
  },
  {
   "cell_type": "code",
   "execution_count": 34,
   "metadata": {},
   "outputs": [],
   "source": [
    "fig.savefig('total.pdf')"
   ]
  },
  {
   "cell_type": "markdown",
   "metadata": {},
   "source": [
    "Plot population sizes"
   ]
  },
  {
   "cell_type": "code",
   "execution_count": 35,
   "metadata": {
    "scrolled": true
   },
   "outputs": [
    {
     "data": {
      "image/png": "[encoded data removed]",
      "text/plain": [
       "<matplotlib.figure.Figure at 0x138cdcda0>"
      ]
     },
     "metadata": {},
     "output_type": "display_data"
    }
   ],
   "source": [
    "fig = plt.figure()\n",
    "plt.plot(dfx['size'].tolist(), ls='--', color='r')\n",
    "plt.xticks(range(dfx.shape[0]), [x + 1 for x in bounds])\n",
    "plt.xlabel(attr)\n",
    "plt.ylabel('size')\n",
    "plt.yscale('log', basey=10);"
   ]
  },
  {
   "cell_type": "code",
   "execution_count": 36,
   "metadata": {
    "collapsed": true
   },
   "outputs": [],
   "source": [
    "fig.savefig('total_size.pdf')"
   ]
  },
  {
   "cell_type": "markdown",
   "metadata": {},
   "source": [
    "Postlevels (maximum number of splits from node to tip)"
   ]
  },
  {
   "cell_type": "code",
   "execution_count": 37,
   "metadata": {},
   "outputs": [
    {
     "data": {
      "image/png": "[encoded data removed]",
      "text/plain": [
       "<matplotlib.figure.Figure at 0x139700cc0>"
      ]
     },
     "metadata": {},
     "output_type": "display_data"
    }
   ],
   "source": [
    "attr = 'postlevels'\n",
    "df.hist(attr, log=True);"
   ]
  },
  {
   "cell_type": "code",
   "execution_count": 38,
   "metadata": {},
   "outputs": [
    {
     "name": "stdout",
     "output_type": "stream",
     "text": [
      "Lower bounds: [1, 2, 3, 4, 6, 7, 9, 11, 13, 16, 20, 24, 29, 36, 44, 67].\n",
      "Number of bins: 15.\n"
     ]
    }
   ],
   "source": [
    "bounds = sorted(set(int(exp(x / 5)) for x in list(range(20)))) + [df['postlevels'].max()]\n",
    "print('Lower bounds: %s.' % bounds)\n",
    "print('Number of bins: %d.' % (len(bounds) - 1))"
   ]
  },
  {
   "cell_type": "code",
   "execution_count": 39,
   "metadata": {},
   "outputs": [],
   "source": [
    "gb = df['is_match'].groupby(pd.cut(df[attr], bins=bounds))\n",
    "dfx = pd.concat([gb.size(), gb.sum().fillna(0).astype(int)], axis=1)\n",
    "dfx.columns = ['size', 'matches']\n",
    "dfx['consistency'] = (dfx['matches'] / dfx['size'] * 100).fillna(0)"
   ]
  },
  {
   "cell_type": "code",
   "execution_count": 40,
   "metadata": {
    "collapsed": true
   },
   "outputs": [],
   "source": [
    "gb2 = df2['is_match'].groupby(pd.cut(df2[attr], bins=bounds))\n",
    "dfx2 = pd.concat([gb2.size(), gb2.sum().fillna(0).astype(int)], axis=1)\n",
    "dfx2.columns = ['size', 'matches']\n",
    "dfx2['consistency'] = (dfx2['matches'] / dfx2['size'] * 100).fillna(0)"
   ]
  },
  {
   "cell_type": "code",
   "execution_count": 42,
   "metadata": {},
   "outputs": [
    {
     "data": {
      "image/png": "[encoded data removed]",
      "text/plain": [
       "<matplotlib.figure.Figure at 0x139a86b38>"
      ]
     },
     "metadata": {},
     "output_type": "display_data"
    }
   ],
   "source": [
    "fig = plt.figure()\n",
    "plt.plot(dfx['consistency'].tolist())\n",
    "plt.plot(dfx2['consistency'].tolist())\n",
    "plt.xticks(range(dfx.shape[0]), [x + 1 for x in bounds])\n",
    "plt.xlabel('%s (lower bound)' % attr)\n",
    "plt.ylabel('consistency (%)')\n",
    "plt.legend(['conserved', 'random'], loc='upper right');"
   ]
  },
  {
   "cell_type": "code",
   "execution_count": 43,
   "metadata": {
    "collapsed": true
   },
   "outputs": [],
   "source": [
    "fig.savefig('max.pdf')"
   ]
  },
  {
   "cell_type": "code",
   "execution_count": 44,
   "metadata": {},
   "outputs": [
    {
     "data": {
      "image/png": "[encoded data removed]",
      "text/plain": [
       "<matplotlib.figure.Figure at 0x139a4dd30>"
      ]
     },
     "metadata": {},
     "output_type": "display_data"
    }
   ],
   "source": [
    "fig = plt.figure()\n",
    "plt.plot(dfx['size'].tolist(), ls='--', color='r')\n",
    "plt.xticks(range(dfx.shape[0]), [x + 1 for x in bounds])\n",
    "plt.xlabel(attr)\n",
    "plt.ylabel('size')\n",
    "plt.yscale('log', basey=10);"
   ]
  },
  {
   "cell_type": "code",
   "execution_count": 45,
   "metadata": {},
   "outputs": [],
   "source": [
    "fig.savefig('max_size.pdf')"
   ]
  }
 ],
 "metadata": {
  "anaconda-cloud": {},
  "kernelspec": {
   "display_name": "Python 3",
   "language": "python",
   "name": "python3"
  },
  "language_info": {
   "codemirror_mode": {
    "name": "ipython",
    "version": 3
   },
   "file_extension": ".py",
   "mimetype": "text/x-python",
   "name": "python",
   "nbconvert_exporter": "python",
   "pygments_lexer": "ipython3",
   "version": "3.6.8"
  }
 },
 "nbformat": 4,
 "nbformat_minor": 2
}
